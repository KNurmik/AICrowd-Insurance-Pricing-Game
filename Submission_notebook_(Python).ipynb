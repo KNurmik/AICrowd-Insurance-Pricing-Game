{
  "nbformat": 4,
  "nbformat_minor": 0,
  "metadata": {
    "colab": {
      "name": "Submission notebook (Python)",
      "provenance": [],
      "collapsed_sections": [],
      "toc_visible": true
    },
    "kernelspec": {
      "display_name": "Python 3",
      "language": "python",
      "name": "python3"
    },
    "language_info": {
      "codemirror_mode": {
        "name": "ipython",
        "version": 3
      },
      "file_extension": ".py",
      "mimetype": "text/x-python",
      "name": "python",
      "nbconvert_exporter": "python",
      "pygments_lexer": "ipython3",
      "version": "3.6.5"
    }
  },
  "cells": [
    {
      "cell_type": "markdown",
      "metadata": {
        "id": "rWq4q0Gfp1Ha"
      },
      "source": [
        "<div style=\"text-align: center\">\n",
        "  <img alt=\"AIcrowd\" src=\"https://gitlab.aicrowd.com/jyotish/pricing-game-notebook-scripts/raw/master/pricing-game-banner.png\">\n",
        "</div>"
      ]
    },
    {
      "cell_type": "markdown",
      "metadata": {
        "id": "uIBNi6PiHFfD"
      },
      "source": [
        "# How to use this notebook 📝\n",
        "\n",
        "1. **Copy the notebook**. This is a shared template and any edits you make here will not be saved. _You should copy it into your own drive folder._ For this, click the \"File\" menu (top-left), then \"Save a Copy in Drive\". You can edit your copy however you like.\n",
        "2. **Link it to your AICrowd account**. In order to submit your code to AICrowd, you need to provide your account's API key (see [_\"Configure static variables\"_](#static-var) for details).\n",
        "3. **Stick to the function definitions**. The submission to AICrowd will look for the pre-defined function names:\n",
        "  - `fit_model`\n",
        "  - `save_model`\n",
        "  - `load_model`\n",
        "  - `predict_expected_claim`\n",
        "  - `predict_premium`\n",
        "\n",
        "    Anything else you write outside of these functions will not be part of the final submission (including constants and utility functions), so make sure everything is defined within them, except for:\n",
        "4. **Define your preprocessing**. In addition to the functions above, anything in the cell labelled [_\"Define your data preprocessing\"_](#data-preprocessing) will also be imported into your final submission. "
      ]
    },
    {
      "cell_type": "markdown",
      "metadata": {
        "id": "uor1bk8ud9Yf"
      },
      "source": [
        "# Your pricing model 🕵️\n",
        "\n",
        "In this notebook, you can play with the data, and define and train your pricing model. You can then directly submit it to the AICrowd, with some magic code at the end.\n",
        "\n",
        "### Baseline logistic regression 💪\n",
        "You can also play with a baseline logistic regression model [implemented here](https://colab.research.google.com/drive/1iDgDgWUw9QzOkbTYjeyY3i3DGuCoghs3?usp=sharing). "
      ]
    },
    {
      "cell_type": "markdown",
      "metadata": {
        "id": "KOG9aspEPfLo"
      },
      "source": [
        "# Setup the notebook 🛠"
      ]
    },
    {
      "cell_type": "code",
      "metadata": {
        "colab": {
          "base_uri": "https://localhost:8080/"
        },
        "id": "Cc9aD_S9w_Qs",
        "outputId": "880bc026-3ffe-4ec5-e7c4-5dc84e4457a3"
      },
      "source": [
        "!bash <(curl -sL https://gitlab.aicrowd.com/jyotish/pricing-game-notebook-scripts/raw/master/python/setup.sh)\n",
        "from aicrowd_helpers import *"
      ],
      "execution_count": 10,
      "outputs": [
        {
          "output_type": "stream",
          "text": [
            "⚙️ Installing AIcrowd utilities...\n",
            "  Running command git clone -q https://gitlab.aicrowd.com/yoogottamk/aicrowd-cli /tmp/pip-req-build-5vi8to7i\n",
            "✅ Installed AIcrowd utilities\n"
          ],
          "name": "stdout"
        }
      ]
    },
    {
      "cell_type": "markdown",
      "metadata": {
        "id": "oWAkvr2mPqhO"
      },
      "source": [
        "# Configure static variables 📎\n",
        "<a name=\"static-var\"></a>\n",
        "\n",
        "In order to submit using this notebook, you must visit this URL https://aicrowd.com/participants/me and copy your API key. \n",
        "\n",
        "Then you must set the value of `AICROWD_API_KEY` wuth the value."
      ]
    },
    {
      "cell_type": "code",
      "metadata": {
        "id": "3Z8nmleFd9Yf"
      },
      "source": [
        "import sklearn\n",
        "\n",
        "class Config:\n",
        "  TRAINING_DATA_PATH = 'training.csv'\n",
        "  MODEL_OUTPUT_PATH = 'model.pkl'\n",
        "  AICROWD_API_KEY = '9b087b7bfda36815cac19e9ce20b1275'  # You can get the key from https://aicrowd.com/participants/me\n",
        "  ADDITIONAL_PACKAGES = [\n",
        "    'numpy',  # you can define versions as well, numpy==0.19.2\n",
        "    'pandas',\n",
        "    'scikit-learn==' + sklearn.__version__,\n",
        "    'xgboost'\n",
        "  ]"
      ],
      "execution_count": 11,
      "outputs": []
    },
    {
      "cell_type": "markdown",
      "metadata": {
        "id": "iK8Ki2WUjVoX"
      },
      "source": [
        "# Download dataset files 💾"
      ]
    },
    {
      "cell_type": "code",
      "metadata": {
        "id": "cgKzpAV0jVFQ",
        "colab": {
          "base_uri": "https://localhost:8080/"
        },
        "outputId": "93357bac-854f-4460-e5f4-b511cbe7c3fa"
      },
      "source": [
        "%download_aicrowd_dataset"
      ],
      "execution_count": 12,
      "outputs": [
        {
          "output_type": "stream",
          "text": [
            "💾 Downloading dataset...\n",
            "Verifying API Key...\n",
            "API Key valid\n",
            "Saved API Key successfully!\n",
            "✅ Downloaded dataset\n"
          ],
          "name": "stdout"
        }
      ]
    },
    {
      "cell_type": "markdown",
      "metadata": {
        "id": "5wrBpC0qd9Yg"
      },
      "source": [
        "# Packages 🗃\n",
        "\n",
        "<a name=\"packages\"></a>\n",
        "\n",
        "Import here all the packages you need to define your model. **You will need to include all of these packages in `Config.ADDITIONAL_PACKAGES` for your code to run properly once submitted.**"
      ]
    },
    {
      "cell_type": "code",
      "metadata": {
        "id": "4q4C50Fsd9Yg"
      },
      "source": [
        "%%track_imports\n",
        "\n",
        "import numpy as np\n",
        "import pandas as pd\n",
        "import pickle\n",
        "import sklearn\n",
        "from sklearn.model_selection import train_test_split\n",
        "from sklearn.preprocessing import StandardScaler\n",
        "from sklearn.metrics import mean_squared_error\n",
        "from sklearn.ensemble import RandomForestRegressor\n",
        "from sklearn.ensemble import GradientBoostingRegressor\n",
        "import xgboost as xgb"
      ],
      "execution_count": 38,
      "outputs": []
    },
    {
      "cell_type": "code",
      "metadata": {
        "id": "lR62QOUGd9Yg"
      },
      "source": [
        "import importlib\n",
        "import global_imports\n",
        "importlib.reload(global_imports)\n",
        "from global_imports import *  # do not change this"
      ],
      "execution_count": 39,
      "outputs": []
    },
    {
      "cell_type": "markdown",
      "metadata": {
        "id": "YRgsbwWwd9Yg"
      },
      "source": [
        "# Loading the data 📲"
      ]
    },
    {
      "cell_type": "code",
      "metadata": {
        "id": "vQQghMU7d9Yg"
      },
      "source": [
        "df = pd.read_csv(Config.TRAINING_DATA_PATH)\n",
        "X_train = df.drop(columns=['claim_amount'])\n",
        "y_train = df['claim_amount']"
      ],
      "execution_count": 15,
      "outputs": []
    },
    {
      "cell_type": "markdown",
      "metadata": {
        "id": "WArx8uDQd9Yh"
      },
      "source": [
        "## How does the data look like? 🔍"
      ]
    },
    {
      "cell_type": "code",
      "metadata": {
        "colab": {
          "base_uri": "https://localhost:8080/",
          "height": 195
        },
        "id": "O_dyebPyQbSO",
        "outputId": "0dbe66a8-e16b-4642-a768-3dbc4b8dc81c"
      },
      "source": [
        "X_train.sample(n=4)"
      ],
      "execution_count": 16,
      "outputs": [
        {
          "output_type": "execute_result",
          "data": {
            "text/html": [
              "<div>\n",
              "<style scoped>\n",
              "    .dataframe tbody tr th:only-of-type {\n",
              "        vertical-align: middle;\n",
              "    }\n",
              "\n",
              "    .dataframe tbody tr th {\n",
              "        vertical-align: top;\n",
              "    }\n",
              "\n",
              "    .dataframe thead th {\n",
              "        text-align: right;\n",
              "    }\n",
              "</style>\n",
              "<table border=\"1\" class=\"dataframe\">\n",
              "  <thead>\n",
              "    <tr style=\"text-align: right;\">\n",
              "      <th></th>\n",
              "      <th>id_policy</th>\n",
              "      <th>year</th>\n",
              "      <th>pol_no_claims_discount</th>\n",
              "      <th>pol_coverage</th>\n",
              "      <th>pol_duration</th>\n",
              "      <th>pol_sit_duration</th>\n",
              "      <th>pol_pay_freq</th>\n",
              "      <th>pol_payd</th>\n",
              "      <th>pol_usage</th>\n",
              "      <th>drv_sex1</th>\n",
              "      <th>drv_age1</th>\n",
              "      <th>drv_age_lic1</th>\n",
              "      <th>drv_drv2</th>\n",
              "      <th>drv_sex2</th>\n",
              "      <th>drv_age2</th>\n",
              "      <th>drv_age_lic2</th>\n",
              "      <th>vh_make_model</th>\n",
              "      <th>vh_age</th>\n",
              "      <th>vh_fuel</th>\n",
              "      <th>vh_type</th>\n",
              "      <th>vh_speed</th>\n",
              "      <th>vh_value</th>\n",
              "      <th>vh_weight</th>\n",
              "      <th>population</th>\n",
              "      <th>town_surface_area</th>\n",
              "    </tr>\n",
              "  </thead>\n",
              "  <tbody>\n",
              "    <tr>\n",
              "      <th>217150</th>\n",
              "      <td>PL028210</td>\n",
              "      <td>4.0</td>\n",
              "      <td>0.0</td>\n",
              "      <td>Max</td>\n",
              "      <td>29</td>\n",
              "      <td>6</td>\n",
              "      <td>Yearly</td>\n",
              "      <td>No</td>\n",
              "      <td>Retired</td>\n",
              "      <td>M</td>\n",
              "      <td>70.0</td>\n",
              "      <td>51.0</td>\n",
              "      <td>Yes</td>\n",
              "      <td>F</td>\n",
              "      <td>63.0</td>\n",
              "      <td>45.0</td>\n",
              "      <td>jjycmklnkdivnypu</td>\n",
              "      <td>6.0</td>\n",
              "      <td>Diesel</td>\n",
              "      <td>Tourism</td>\n",
              "      <td>174.0</td>\n",
              "      <td>13904.0</td>\n",
              "      <td>1260.0</td>\n",
              "      <td>1220.0</td>\n",
              "      <td>410.0</td>\n",
              "    </tr>\n",
              "    <tr>\n",
              "      <th>106986</th>\n",
              "      <td>PL086085</td>\n",
              "      <td>2.0</td>\n",
              "      <td>0.0</td>\n",
              "      <td>Max</td>\n",
              "      <td>12</td>\n",
              "      <td>3</td>\n",
              "      <td>Monthly</td>\n",
              "      <td>No</td>\n",
              "      <td>WorkPrivate</td>\n",
              "      <td>M</td>\n",
              "      <td>57.0</td>\n",
              "      <td>35.0</td>\n",
              "      <td>No</td>\n",
              "      <td>0</td>\n",
              "      <td>NaN</td>\n",
              "      <td>NaN</td>\n",
              "      <td>swjkmyqytzxjwgag</td>\n",
              "      <td>10.0</td>\n",
              "      <td>Diesel</td>\n",
              "      <td>Tourism</td>\n",
              "      <td>175.0</td>\n",
              "      <td>23900.0</td>\n",
              "      <td>1285.0</td>\n",
              "      <td>300.0</td>\n",
              "      <td>358.8</td>\n",
              "    </tr>\n",
              "    <tr>\n",
              "      <th>62334</th>\n",
              "      <td>PL042992</td>\n",
              "      <td>2.0</td>\n",
              "      <td>0.0</td>\n",
              "      <td>Max</td>\n",
              "      <td>4</td>\n",
              "      <td>2</td>\n",
              "      <td>Yearly</td>\n",
              "      <td>No</td>\n",
              "      <td>WorkPrivate</td>\n",
              "      <td>M</td>\n",
              "      <td>60.0</td>\n",
              "      <td>35.0</td>\n",
              "      <td>No</td>\n",
              "      <td>0</td>\n",
              "      <td>NaN</td>\n",
              "      <td>NaN</td>\n",
              "      <td>arcsdpohuzvikyaw</td>\n",
              "      <td>7.0</td>\n",
              "      <td>Diesel</td>\n",
              "      <td>Tourism</td>\n",
              "      <td>219.0</td>\n",
              "      <td>28334.0</td>\n",
              "      <td>1557.0</td>\n",
              "      <td>380.0</td>\n",
              "      <td>527.2</td>\n",
              "    </tr>\n",
              "    <tr>\n",
              "      <th>29365</th>\n",
              "      <td>PL078401</td>\n",
              "      <td>1.0</td>\n",
              "      <td>0.0</td>\n",
              "      <td>Med2</td>\n",
              "      <td>24</td>\n",
              "      <td>1</td>\n",
              "      <td>Biannual</td>\n",
              "      <td>No</td>\n",
              "      <td>WorkPrivate</td>\n",
              "      <td>F</td>\n",
              "      <td>74.0</td>\n",
              "      <td>52.0</td>\n",
              "      <td>No</td>\n",
              "      <td>0</td>\n",
              "      <td>NaN</td>\n",
              "      <td>NaN</td>\n",
              "      <td>tdgkjlphosocwbgu</td>\n",
              "      <td>7.0</td>\n",
              "      <td>Diesel</td>\n",
              "      <td>Tourism</td>\n",
              "      <td>200.0</td>\n",
              "      <td>19422.0</td>\n",
              "      <td>1315.0</td>\n",
              "      <td>330.0</td>\n",
              "      <td>141.0</td>\n",
              "    </tr>\n",
              "  </tbody>\n",
              "</table>\n",
              "</div>"
            ],
            "text/plain": [
              "       id_policy  year  ...  population town_surface_area\n",
              "217150  PL028210   4.0  ...      1220.0             410.0\n",
              "106986  PL086085   2.0  ...       300.0             358.8\n",
              "62334   PL042992   2.0  ...       380.0             527.2\n",
              "29365   PL078401   1.0  ...       330.0             141.0\n",
              "\n",
              "[4 rows x 25 columns]"
            ]
          },
          "metadata": {
            "tags": []
          },
          "execution_count": 16
        }
      ]
    },
    {
      "cell_type": "code",
      "metadata": {
        "colab": {
          "base_uri": "https://localhost:8080/"
        },
        "id": "WoJEQhxMQtq9",
        "outputId": "e831d2c9-6d39-4c05-b953-faf557cba3b0"
      },
      "source": [
        "y_train.sample(n=4)"
      ],
      "execution_count": 17,
      "outputs": [
        {
          "output_type": "execute_result",
          "data": {
            "text/plain": [
              "216472    0.0\n",
              "10499     0.0\n",
              "174808    0.0\n",
              "147522    0.0\n",
              "Name: claim_amount, dtype: float64"
            ]
          },
          "metadata": {
            "tags": []
          },
          "execution_count": 17
        }
      ]
    },
    {
      "cell_type": "markdown",
      "metadata": {
        "id": "ynDfq7F_d9Yh"
      },
      "source": [
        "# Training the model 🚀\n",
        "\n",
        "You must first define your first function: `fit_model`. This function takes training data as arguments, and outputs a \"model\" object -- that you define as you wish. For instance, this could be an array of parameter values."
      ]
    },
    {
      "cell_type": "markdown",
      "metadata": {
        "id": "CpW0yH_Lj2hG"
      },
      "source": [
        "## Define your data preprocessing\n",
        "\n",
        "<a name=\"data-preprocessing\"></a>\n",
        "\n",
        "You can add any class or function in this cell for preprocessing. Just make sure that you use the functions here in the `fit_model`, `predict_expected_claim` and `predict_premium` functions if necessary. *italicised text*"
      ]
    },
    {
      "cell_type": "code",
      "metadata": {
        "id": "buq4-7IIjsUq"
      },
      "source": [
        "%%aicrowd_include\n",
        "# This magical command saves all code in this cell to a utils module.\n",
        "\n",
        "# include your preprocessing functions and classes here. \n",
        "\n",
        "class Bag:\n",
        "  \"\"\"A bag of models, outputs of which are averaged.\"\"\"\n",
        "  def __init__(self, models):\n",
        "    self.models = models\n",
        "    self.means = None\n",
        "\n",
        "  def wrangle(self, df, means=None):\n",
        "    \"\"\"Prepare the predictors.\"\"\"\n",
        "    print(\"Wrangling data.\")\n",
        "    original_len = len(df)\n",
        "    \n",
        "    # Use pre-existing means if available (i.e. on test set)\n",
        "    if means is None:\n",
        "      means = df[df.vh_weight > 0].mean()\n",
        "\n",
        "    # Replace 0 vehicle weight with mean\n",
        "    df.vh_weight = df.vh_weight.replace(0.0, means.vh_weight)\n",
        "    \n",
        "    # Replace NaNs with column mean\n",
        "    nans = ['vh_age', 'vh_speed', 'vh_value', 'vh_weight']\n",
        "    df[nans] = df[nans].fillna(means[nans])\n",
        "\n",
        "    print('Done with replacing')\n",
        "    assert len(df) == original_len\n",
        "    \n",
        "    # Join first year data\n",
        "    df = df.merge(df[df.year == 1.0][['id_policy', 'pol_no_claims_discount']].drop_duplicates(subset='id_policy'),\n",
        "                  on='id_policy', suffixes=('', '_first'), how='left')\n",
        "    \n",
        "    print(\"left join\")\n",
        "    print(\"original: {}, new: {}\".format(original_len, len(df)))\n",
        "    assert len(df) == original_len\n",
        "    \n",
        "    # Change from beginning discount level\n",
        "    df['discount_base_change'] = df.pol_no_claims_discount - 0.631\n",
        "    # Yearly discount change over licence ownership\n",
        "    df['discount_yearly_change'] = df.discount_base_change / df.drv_age_lic1\n",
        "    \n",
        "    # Discount change from policy beginning\n",
        "    df['discount_change'] = df.pol_no_claims_discount - df.pol_no_claims_discount_first\n",
        "    # Approx. no. of claims since first year\n",
        "    df['no_claims'] = np.maximum(np.zeros_like(df.year), np.ceil(df.discount_change / 0.2))\n",
        "    \n",
        "    # Driver 1 and 2 combined info\n",
        "    df['drv_sex2'] = df.drv_sex2.replace('0', '')\n",
        "    df['drv_sexes'] = df.apply(lambda row: ''.join(sorted(row.drv_sex1 + row.drv_sex2)), axis=1)\n",
        "    df['drv_avg_age'] = np.mean(df[['drv_age1', 'drv_age2']], axis=1)\n",
        "    df['drv_avg_lic'] = np.mean(df[['drv_age_lic1', 'drv_age_lic2']], axis=1)\n",
        "\n",
        "    # Population density\n",
        "    df['pop_dens'] = df.population / df.town_surface_area\n",
        "\n",
        "    print('variable creation')\n",
        "    assert len(df) == original_len\n",
        "    \n",
        "    # Drop unnecessary cols\n",
        "    df = df.drop(columns=['id_policy', 'drv_drv2', 'drv_sex2', 'drv_age2', 'drv_age_lic2',\n",
        "                        'vh_make_model', 'pol_pay_freq', 'pol_no_claims_discount_first'])\n",
        "    \n",
        "    print('drop cols')\n",
        "    assert len(df) == original_len\n",
        "    \n",
        "    \n",
        "    # One-hot encoding for categorical variables\n",
        "    cats = ['pol_coverage', 'pol_payd', 'pol_usage', 'drv_sex1', 'vh_fuel', 'vh_type',\n",
        "          'drv_sexes']\n",
        "    df = pd.get_dummies(df, prefix=cats,\n",
        "                      columns=cats)\n",
        "        \n",
        "    assert len(df) == original_len\n",
        "    return df, means\n",
        "\n",
        "  def fit(self, x, y):\n",
        "    \"\"\"Fit all individual models.\"\"\"\n",
        "    x, means = self.wrangle(x)\n",
        "    self.means = means\n",
        "    print(\"Fitting models.\")\n",
        "    for model in self.models:\n",
        "      model.fit(x, y)\n",
        "\n",
        "  def predict(self, x):\n",
        "    \"\"\"Predict on all individual models and average their results.\"\"\"\n",
        "    preds = []\n",
        "    x, blah = self.wrangle(x, self.means)\n",
        "    for model in self.models:\n",
        "      preds.append(model.predict(x))\n",
        "    return np.minimum.reduce(preds)\n",
        "\n",
        "  "
      ],
      "execution_count": 67,
      "outputs": []
    },
    {
      "cell_type": "code",
      "metadata": {
        "id": "CtL2L7SgFg0c"
      },
      "source": [
        "import importlib\n",
        "import utils\n",
        "importlib.reload(utils)\n",
        "from utils import *  # do not change this"
      ],
      "execution_count": 68,
      "outputs": []
    },
    {
      "cell_type": "markdown",
      "metadata": {
        "id": "NAaNQuVxRTUs"
      },
      "source": [
        "## Define the training logic"
      ]
    },
    {
      "cell_type": "code",
      "metadata": {
        "id": "ffOanSIvd9Yh"
      },
      "source": [
        "def fit_model(X_raw, y_raw):\n",
        "    \"\"\"Model training function: given training data (X_raw, y_raw), train this pricing model.\n",
        "\n",
        "    Parameters\n",
        "    ----------\n",
        "    X_raw : Pandas dataframe, with the columns described in the data dictionary.\n",
        "        Each row is a different contract. This data has not been processed.\n",
        "    y_raw : a Numpy array, with the value of the claims, in the same order as contracts in X_raw.\n",
        "        A one dimensional array, with values either 0 (most entries) or >0.\n",
        "\n",
        "    Returns\n",
        "    -------\n",
        "    self: this instance of the fitted model. This can be anything, as long as it is compatible\n",
        "        with your prediction methods.\n",
        "\n",
        "    \"\"\"\n",
        "\n",
        "    models = [\n",
        "              RandomForestRegressor(n_estimators=100,\n",
        "                                    max_depth=8,\n",
        "                                    max_features='log2',\n",
        "                                    min_samples_split=200,\n",
        "                                    random_state=2021),\n",
        "              GradientBoostingRegressor(n_estimators=65,\n",
        "                                        learning_rate=0.5,\n",
        "                                        max_depth=1,\n",
        "                                        loss='ls')\n",
        "              # xgb.XGBRegressor(\n",
        "              #                  n_estimators=15,\n",
        "              #                  reg_lambda=0.001,\n",
        "              #                  gamma=1,\n",
        "              #                  max_depth=3)\n",
        "    ]\n",
        "\n",
        "    bag = Bag(models)\n",
        "    bag.fit(X_raw, y_raw)\n",
        "\n",
        "    return bag"
      ],
      "execution_count": 69,
      "outputs": []
    },
    {
      "cell_type": "markdown",
      "metadata": {
        "id": "CfjGFHcXd9Yh"
      },
      "source": [
        "## Train your model"
      ]
    },
    {
      "cell_type": "code",
      "metadata": {
        "id": "0wtCLn_Xd9Yi",
        "colab": {
          "base_uri": "https://localhost:8080/"
        },
        "outputId": "c8e3468b-a15e-4ed0-ead2-479111384b91"
      },
      "source": [
        "trained_model = fit_model(X_train, y_train)"
      ],
      "execution_count": 70,
      "outputs": [
        {
          "output_type": "stream",
          "text": [
            "Wrangling data.\n",
            "Done with replacing\n",
            "left join\n",
            "original: 228216, new: 228216\n",
            "variable creation\n",
            "drop cols\n",
            "Fitting models.\n"
          ],
          "name": "stdout"
        }
      ]
    },
    {
      "cell_type": "markdown",
      "metadata": {
        "id": "NjUk7tfjd9Yi"
      },
      "source": [
        "**Important note**: your training code should be able to run in under 10 minutes (since this notebook is re-run entirely on the server side). \n",
        "\n",
        "If you run into an issue here we recommend using the *zip file submission* (see the [challenge page](https://www.aicrowd.com/challenges/insurance-pricing-game/#how-to%20submit)). In short, you can simply do this by copy-pasting your `fit_model`, `predict_expected_claim` and `predict_premium` functions to the `model.py` file.\n",
        "\n",
        "Note that if you want to perform extensive cross-validation/hyper-parameter selection, it is better to do them offline, in a separate notebook."
      ]
    },
    {
      "cell_type": "markdown",
      "metadata": {
        "id": "LWYcr_Ued9Yi"
      },
      "source": [
        "## Saving your model\n",
        "\n",
        "You can save your model to a file here, so you don't need to retrain it every time."
      ]
    },
    {
      "cell_type": "code",
      "metadata": {
        "id": "O6iWwkmHd9Yi"
      },
      "source": [
        "def save_model(model_path):  # some models such xgboost models or keras models don't pickle very reliably. Please use the package provided saving functions instead. \n",
        "  with open(model_path, 'wb') as target_file:\n",
        "      pickle.dump(trained_model, target_file)"
      ],
      "execution_count": 71,
      "outputs": []
    },
    {
      "cell_type": "code",
      "metadata": {
        "id": "zwEEP95EMow4"
      },
      "source": [
        "save_model(Config.MODEL_OUTPUT_PATH)"
      ],
      "execution_count": 72,
      "outputs": []
    },
    {
      "cell_type": "markdown",
      "metadata": {
        "id": "9G3KPnlsd9Yi"
      },
      "source": [
        "If you need to load it from file, you can use this code:"
      ]
    },
    {
      "cell_type": "code",
      "metadata": {
        "id": "ICY88PT5d9Yi"
      },
      "source": [
        "def load_model(model_path): # some models such xgboost models or keras models don't pickle very reliably. Please use the package provided saving functions instead. \n",
        "  with open(model_path, 'rb') as target:\n",
        "      return pickle.load(target)"
      ],
      "execution_count": 73,
      "outputs": []
    },
    {
      "cell_type": "code",
      "metadata": {
        "id": "dxTX1TYOMsWK"
      },
      "source": [
        "trained_model = load_model(Config.MODEL_OUTPUT_PATH)"
      ],
      "execution_count": 74,
      "outputs": []
    },
    {
      "cell_type": "markdown",
      "metadata": {
        "id": "tVeJiR1Ud9Yi"
      },
      "source": [
        "# Predicting the claims 💵\n",
        "\n",
        "The second function, `predict_expected_claim`, takes your trained model and a dataframe of contracts, and outputs a prediction for the (expected) claim incurred by each contract. This expected claim can be seen as the probability of an accident multiplied by the cost of that accident.\n",
        "\n",
        "This is the function used to compute the _RMSE_ leaderboard, where the model best able to predict claims wins."
      ]
    },
    {
      "cell_type": "code",
      "metadata": {
        "id": "rgM1xNf0d9Yi"
      },
      "source": [
        "def predict_expected_claim(model, X_raw):\n",
        "    \"\"\"Model prediction function: predicts the expected claim based on the pricing model.\n",
        "\n",
        "    This functions estimates the expected claim made by a contract (typically, as the product\n",
        "    of the probability of having a claim multiplied by the expected cost of a claim if it occurs),\n",
        "    for each contract in the dataset X_raw.\n",
        "\n",
        "    This is the function used in the RMSE leaderboard, and hence the output should be as close\n",
        "    as possible to the expected cost of a contract.\n",
        "\n",
        "    Parameters\n",
        "    ----------\n",
        "    model: a Python object that describes your model. This can be anything, as long\n",
        "        as it is consistent with what `fit` outpurs.\n",
        "    X_raw : Pandas dataframe, with the columns described in the data dictionary.\n",
        "        Each row is a different contract. This data has not been processed.\n",
        "\n",
        "    Returns\n",
        "    -------\n",
        "    avg_claims: a one-dimensional Numpy array of the same length as X_raw, with one\n",
        "        expected claim per contract (in same order). These expected claims must be POSITIVE (>0).\n",
        "    \"\"\"\n",
        "\n",
        "    preds = model.predict(X_raw)\n",
        "    preds[preds < 0] = 0\n",
        "    \n",
        "    return preds"
      ],
      "execution_count": 75,
      "outputs": []
    },
    {
      "cell_type": "markdown",
      "metadata": {
        "id": "FN7RqHcld9Yi"
      },
      "source": [
        "To test your function, run it on your training data:"
      ]
    },
    {
      "cell_type": "code",
      "metadata": {
        "id": "P7Pu1UE-d9Yi"
      },
      "source": [
        "#predict_expected_claim(trained_model, X_train)"
      ],
      "execution_count": 76,
      "outputs": []
    },
    {
      "cell_type": "markdown",
      "metadata": {
        "id": "2LuitAiQd9Yi"
      },
      "source": [
        "# Pricing contracts 💰💰\n",
        "\n",
        "The third and final function, `predict_premium`, takes your trained model and a dataframe of contracts, and outputs a _price_ for each of these contracts. **You are free to set this prices however you want!** These prices will then be used in competition with other models: contracts will choose the model offering the lowest price, and this model will have to pay the cost if an accident occurs.\n",
        "\n",
        "This is the function used to compute the _profit_ leaderboard: your model will participate in many markets of size 10, populated by other participants' model, and we compute the average profit of your model over all the markets it participated in."
      ]
    },
    {
      "cell_type": "code",
      "metadata": {
        "id": "agmv13hnd9Yi"
      },
      "source": [
        "def predict_premium(model, X_raw):\n",
        "    \"\"\"Model prediction function: predicts premiums based on the pricing model.\n",
        "\n",
        "    This function outputs the prices that will be offered to the contracts in X_raw.\n",
        "    premium will typically depend on the average claim predicted in \n",
        "    predict_average_claim, and will add some pricing strategy on top.\n",
        "\n",
        "    This is the function used in the average profit leaderboard. Prices output here will\n",
        "    be used in competition with other models, so feel free to use a pricing strategy.\n",
        "\n",
        "    Parameters\n",
        "    ----------\n",
        "    model: a Python object that describes your model. This can be anything, as long\n",
        "        as it is consistent with what `fit` outpurs.\n",
        "    X_raw : Pandas dataframe, with the columns described in the data dictionary.\n",
        "        Each row is a different contract. This data has not been processed.\n",
        "\n",
        "    Returns\n",
        "    -------\n",
        "    prices: a one-dimensional Numpy array of the same length as X_raw, with one\n",
        "        price per contract (in same order). These prices must be POSITIVE (>0).\n",
        "    \"\"\"\n",
        "    # Minimum price to offer\n",
        "    base = 110\n",
        "    # Scale predicted claims\n",
        "    risk = 1.5\n",
        "\n",
        "    claims = predict_expected_claim(model, X_raw)\n",
        "\n",
        "    prices = claims * risk\n",
        "    prices[prices < base] = base\n",
        "\n",
        "    return prices"
      ],
      "execution_count": 77,
      "outputs": []
    },
    {
      "cell_type": "markdown",
      "metadata": {
        "id": "tu7T3lQ_d9Yi"
      },
      "source": [
        "To test your function, run it on your training data."
      ]
    },
    {
      "cell_type": "code",
      "metadata": {
        "id": "P2Ej-1zcd9Yi",
        "colab": {
          "base_uri": "https://localhost:8080/"
        },
        "outputId": "f3e44cbc-ea8c-4333-c25e-54d06be18656"
      },
      "source": [
        "prices = predict_premium(trained_model, X_train)"
      ],
      "execution_count": 78,
      "outputs": [
        {
          "output_type": "stream",
          "text": [
            "Wrangling data.\n",
            "Done with replacing\n",
            "left join\n",
            "original: 228216, new: 228216\n",
            "variable creation\n",
            "drop cols\n"
          ],
          "name": "stdout"
        }
      ]
    },
    {
      "cell_type": "markdown",
      "metadata": {
        "id": "vcU5hWPHd9Yi"
      },
      "source": [
        "#### Profit on training data\n",
        "\n",
        "In order for your model to be considered in the profit competition, it needs to make nonnegative profit over its training set. You can check that your model satisfies this condition below:"
      ]
    },
    {
      "cell_type": "code",
      "metadata": {
        "colab": {
          "base_uri": "https://localhost:8080/"
        },
        "id": "hf389fhYd9Yi",
        "outputId": "dd57ec2c-39c3-469d-f6ba-b3c57830b6e8"
      },
      "source": [
        "print('Income:', prices.sum())\n",
        "print('Losses:', y_train.sum())\n",
        "\n",
        "if prices.sum() < y_train.sum():\n",
        "    print('Your model loses money on the training data! It does not satisfy market rule 1: Non-negative training profit.')\n",
        "    print('This model will be disqualified from the weekly profit leaderboard, but can be submitted for educational purposes to the RMSE leaderboard.')\n",
        "else:\n",
        "    print('Your model passes the non-negative training profit test!')"
      ],
      "execution_count": 79,
      "outputs": [
        {
          "output_type": "stream",
          "text": [
            "Income: 40299400.282846205\n",
            "Losses: 26057988.080000006\n",
            "Your model passes the non-negative training profit test!\n"
          ],
          "name": "stdout"
        }
      ]
    },
    {
      "cell_type": "markdown",
      "metadata": {
        "id": "AQlsVqDqd9Yi"
      },
      "source": [
        "# Ready? Submit to AIcrowd 🚀\n",
        "\n",
        "If you are satisfied with your code, run the code below to send your code to the AICrowd servers for evaluation! This requires the variable `trained_model` to be defined by your previous code.\n",
        "\n",
        "**Make sure you have included all packages needed to run your code in the [_\"Packages\"_](#packages) section.**"
      ]
    },
    {
      "cell_type": "code",
      "metadata": {
        "colab": {
          "base_uri": "https://localhost:8080/"
        },
        "id": "ovm0PyTEd9Yi",
        "outputId": "03fe1198-df14-4013-aa9a-a5481120f1d7"
      },
      "source": [
        "%aicrowd_submit"
      ],
      "execution_count": 80,
      "outputs": [
        {
          "output_type": "stream",
          "text": [
            "🚀 Preparing to submit...\n",
            "⚙️ Collecting the submission code...\n",
            "💾 Preparing the submission zip file...\n",
            "adding: requirements.txt (stored 0%)\n",
            "adding: predict_premium.py (deflated 53%)\n",
            "adding: save_model.py (deflated 37%)\n",
            "adding: fit_model.py (deflated 60%)\n",
            "adding: load_model.py (deflated 35%)\n",
            "adding: config.json (deflated 8%)\n",
            "adding: utils.py (deflated 60%)\n",
            "adding: predict.py (deflated 52%)\n",
            "adding: predict_expected_claim.py (deflated 51%)\n",
            "adding: model.pkl (deflated 59%)\n",
            "adding: global_imports.py (deflated 50%)\n",
            "Verifying API Key...\n",
            "API Key valid\n",
            "Saved API Key successfully!\n",
            "╭──────────────────────────────────────────────────────────────────────────────────────────────────────────────╮\n",
            "│                                           Successfully submitted!                                            │\n",
            "╰──────────────────────────────────────────────────────────────────────────────────────────────────────────────╯\n",
            "Important links\n",
            "┌──────────────────┬───────────────────────────────────────────────────────────────────────────────────────────┐\n",
            "│  This submission │ https://www.aicrowd.com/challenges/insurance-pricing-game/submissions/113865              │\n",
            "│                  │                                                                                           │\n",
            "│  All submissions │ https://www.aicrowd.com/challenges/insurance-pricing-game/submissions?my_submissions=true │\n",
            "│                  │                                                                                           │\n",
            "│      Leaderboard │ https://www.aicrowd.com/challenges/insurance-pricing-game/leaderboards                    │\n",
            "│                  │                                                                                           │\n",
            "│ Discussion forum │ https://discourse.aicrowd.com/c/insurance-pricing-game                                    │\n",
            "│                  │                                                                                           │\n",
            "│   Challenge page │ https://www.aicrowd.com/challenges/insurance-pricing-game                                 │\n",
            "└──────────────────┴───────────────────────────────────────────────────────────────────────────────────────────┘\n"
          ],
          "name": "stdout"
        }
      ]
    },
    {
      "cell_type": "code",
      "metadata": {
        "id": "p41NqTrTEFbF"
      },
      "source": [
        ""
      ],
      "execution_count": null,
      "outputs": []
    }
  ]
}