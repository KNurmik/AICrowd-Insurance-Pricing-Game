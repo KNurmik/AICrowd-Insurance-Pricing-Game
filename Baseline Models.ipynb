{
 "cells": [
  {
   "cell_type": "code",
   "execution_count": 432,
   "metadata": {},
   "outputs": [],
   "source": [
    "import numpy as np\n",
    "import pandas as pd\n",
    "import sklearn\n",
    "import matplotlib.pyplot as plt\n",
    "from sklearn.model_selection import train_test_split\n",
    "from sklearn.preprocessing import Normalizer\n",
    "from sklearn.linear_model import LinearRegression\n",
    "from sklearn.metrics import mean_squared_error\n",
    "\n",
    "# Matplotlib visual settings\n",
    "plt.style.use(\"ggplot\")\n",
    "plt.rcParams['figure.figsize'] = [15,7]"
   ]
  },
  {
   "cell_type": "code",
   "execution_count": 433,
   "metadata": {},
   "outputs": [],
   "source": [
    "df = pd.read_csv('data/training.csv')\n",
    "\n",
    "preds = [item for item in list(df.columns) if item not in ('id_policy', 'pol_pay_freq', 'drv_sex2', 'drv_age2',\n",
    "                                                          'drv_age_lic2', 'vh_make_model', 'claim_amount')]"
   ]
  },
  {
   "cell_type": "code",
   "execution_count": 434,
   "metadata": {},
   "outputs": [
    {
     "data": {
      "text/html": [
       "<div>\n",
       "<style scoped>\n",
       "    .dataframe tbody tr th:only-of-type {\n",
       "        vertical-align: middle;\n",
       "    }\n",
       "\n",
       "    .dataframe tbody tr th {\n",
       "        vertical-align: top;\n",
       "    }\n",
       "\n",
       "    .dataframe thead th {\n",
       "        text-align: right;\n",
       "    }\n",
       "</style>\n",
       "<table border=\"1\" class=\"dataframe\">\n",
       "  <thead>\n",
       "    <tr style=\"text-align: right;\">\n",
       "      <th></th>\n",
       "      <th>id_policy</th>\n",
       "      <th>year</th>\n",
       "      <th>pol_no_claims_discount</th>\n",
       "      <th>pol_coverage</th>\n",
       "      <th>pol_duration</th>\n",
       "      <th>pol_sit_duration</th>\n",
       "      <th>pol_pay_freq</th>\n",
       "      <th>pol_payd</th>\n",
       "      <th>pol_usage</th>\n",
       "      <th>drv_sex1</th>\n",
       "      <th>...</th>\n",
       "      <th>vh_make_model</th>\n",
       "      <th>vh_age</th>\n",
       "      <th>vh_fuel</th>\n",
       "      <th>vh_type</th>\n",
       "      <th>vh_speed</th>\n",
       "      <th>vh_value</th>\n",
       "      <th>vh_weight</th>\n",
       "      <th>population</th>\n",
       "      <th>town_surface_area</th>\n",
       "      <th>claim_amount</th>\n",
       "    </tr>\n",
       "  </thead>\n",
       "  <tbody>\n",
       "    <tr>\n",
       "      <th>0</th>\n",
       "      <td>PL000000</td>\n",
       "      <td>1.0</td>\n",
       "      <td>0.332</td>\n",
       "      <td>Med2</td>\n",
       "      <td>5</td>\n",
       "      <td>1</td>\n",
       "      <td>Monthly</td>\n",
       "      <td>No</td>\n",
       "      <td>WorkPrivate</td>\n",
       "      <td>M</td>\n",
       "      <td>...</td>\n",
       "      <td>aparvvfowrjncdhp</td>\n",
       "      <td>8.0</td>\n",
       "      <td>Gasoline</td>\n",
       "      <td>Tourism</td>\n",
       "      <td>174.0</td>\n",
       "      <td>11040.0</td>\n",
       "      <td>1143.0</td>\n",
       "      <td>1270.0</td>\n",
       "      <td>33.1</td>\n",
       "      <td>0.0</td>\n",
       "    </tr>\n",
       "    <tr>\n",
       "      <th>1</th>\n",
       "      <td>PL042495</td>\n",
       "      <td>1.0</td>\n",
       "      <td>0.000</td>\n",
       "      <td>Med2</td>\n",
       "      <td>6</td>\n",
       "      <td>1</td>\n",
       "      <td>Monthly</td>\n",
       "      <td>No</td>\n",
       "      <td>WorkPrivate</td>\n",
       "      <td>M</td>\n",
       "      <td>...</td>\n",
       "      <td>aparvvfowrjncdhp</td>\n",
       "      <td>10.0</td>\n",
       "      <td>Diesel</td>\n",
       "      <td>Tourism</td>\n",
       "      <td>174.0</td>\n",
       "      <td>11040.0</td>\n",
       "      <td>1143.0</td>\n",
       "      <td>1290.0</td>\n",
       "      <td>51.3</td>\n",
       "      <td>0.0</td>\n",
       "    </tr>\n",
       "    <tr>\n",
       "      <th>2</th>\n",
       "      <td>PL042496</td>\n",
       "      <td>1.0</td>\n",
       "      <td>0.196</td>\n",
       "      <td>Med1</td>\n",
       "      <td>2</td>\n",
       "      <td>1</td>\n",
       "      <td>Yearly</td>\n",
       "      <td>Yes</td>\n",
       "      <td>Retired</td>\n",
       "      <td>M</td>\n",
       "      <td>...</td>\n",
       "      <td>iwhqpdfuhrsxyqxe</td>\n",
       "      <td>8.0</td>\n",
       "      <td>Diesel</td>\n",
       "      <td>Commercial</td>\n",
       "      <td>150.0</td>\n",
       "      <td>14159.0</td>\n",
       "      <td>1193.0</td>\n",
       "      <td>1020.0</td>\n",
       "      <td>262.8</td>\n",
       "      <td>0.0</td>\n",
       "    </tr>\n",
       "    <tr>\n",
       "      <th>3</th>\n",
       "      <td>PL042497</td>\n",
       "      <td>1.0</td>\n",
       "      <td>0.000</td>\n",
       "      <td>Med2</td>\n",
       "      <td>8</td>\n",
       "      <td>5</td>\n",
       "      <td>Yearly</td>\n",
       "      <td>No</td>\n",
       "      <td>WorkPrivate</td>\n",
       "      <td>F</td>\n",
       "      <td>...</td>\n",
       "      <td>kvcddisqpkysmvvo</td>\n",
       "      <td>4.0</td>\n",
       "      <td>Gasoline</td>\n",
       "      <td>Tourism</td>\n",
       "      <td>149.0</td>\n",
       "      <td>17233.0</td>\n",
       "      <td>1012.0</td>\n",
       "      <td>180.0</td>\n",
       "      <td>219.7</td>\n",
       "      <td>0.0</td>\n",
       "    </tr>\n",
       "    <tr>\n",
       "      <th>4</th>\n",
       "      <td>PL042498</td>\n",
       "      <td>1.0</td>\n",
       "      <td>0.000</td>\n",
       "      <td>Med1</td>\n",
       "      <td>2</td>\n",
       "      <td>2</td>\n",
       "      <td>Yearly</td>\n",
       "      <td>No</td>\n",
       "      <td>Retired</td>\n",
       "      <td>F</td>\n",
       "      <td>...</td>\n",
       "      <td>tdgkjlphosocwbgu</td>\n",
       "      <td>13.0</td>\n",
       "      <td>Gasoline</td>\n",
       "      <td>Tourism</td>\n",
       "      <td>200.0</td>\n",
       "      <td>19422.0</td>\n",
       "      <td>1315.0</td>\n",
       "      <td>30.0</td>\n",
       "      <td>70.3</td>\n",
       "      <td>0.0</td>\n",
       "    </tr>\n",
       "  </tbody>\n",
       "</table>\n",
       "<p>5 rows × 26 columns</p>\n",
       "</div>"
      ],
      "text/plain": [
       "  id_policy  year  pol_no_claims_discount pol_coverage  pol_duration  \\\n",
       "0  PL000000   1.0                   0.332         Med2             5   \n",
       "1  PL042495   1.0                   0.000         Med2             6   \n",
       "2  PL042496   1.0                   0.196         Med1             2   \n",
       "3  PL042497   1.0                   0.000         Med2             8   \n",
       "4  PL042498   1.0                   0.000         Med1             2   \n",
       "\n",
       "   pol_sit_duration pol_pay_freq pol_payd    pol_usage drv_sex1  ...  \\\n",
       "0                 1      Monthly       No  WorkPrivate        M  ...   \n",
       "1                 1      Monthly       No  WorkPrivate        M  ...   \n",
       "2                 1       Yearly      Yes      Retired        M  ...   \n",
       "3                 5       Yearly       No  WorkPrivate        F  ...   \n",
       "4                 2       Yearly       No      Retired        F  ...   \n",
       "\n",
       "      vh_make_model  vh_age   vh_fuel     vh_type  vh_speed  vh_value  \\\n",
       "0  aparvvfowrjncdhp     8.0  Gasoline     Tourism     174.0   11040.0   \n",
       "1  aparvvfowrjncdhp    10.0    Diesel     Tourism     174.0   11040.0   \n",
       "2  iwhqpdfuhrsxyqxe     8.0    Diesel  Commercial     150.0   14159.0   \n",
       "3  kvcddisqpkysmvvo     4.0  Gasoline     Tourism     149.0   17233.0   \n",
       "4  tdgkjlphosocwbgu    13.0  Gasoline     Tourism     200.0   19422.0   \n",
       "\n",
       "  vh_weight  population town_surface_area claim_amount  \n",
       "0    1143.0      1270.0              33.1          0.0  \n",
       "1    1143.0      1290.0              51.3          0.0  \n",
       "2    1193.0      1020.0             262.8          0.0  \n",
       "3    1012.0       180.0             219.7          0.0  \n",
       "4    1315.0        30.0              70.3          0.0  \n",
       "\n",
       "[5 rows x 26 columns]"
      ]
     },
     "execution_count": 434,
     "metadata": {},
     "output_type": "execute_result"
    }
   ],
   "source": [
    "df.head()"
   ]
  },
  {
   "cell_type": "code",
   "execution_count": 435,
   "metadata": {},
   "outputs": [
    {
     "data": {
      "text/plain": [
       "Index(['id_policy', 'year', 'pol_no_claims_discount', 'pol_coverage',\n",
       "       'pol_duration', 'pol_sit_duration', 'pol_pay_freq', 'pol_payd',\n",
       "       'pol_usage', 'drv_sex1', 'drv_age1', 'drv_age_lic1', 'drv_drv2',\n",
       "       'drv_sex2', 'drv_age2', 'drv_age_lic2', 'vh_make_model', 'vh_age',\n",
       "       'vh_fuel', 'vh_type', 'vh_speed', 'vh_value', 'vh_weight', 'population',\n",
       "       'town_surface_area', 'claim_amount'],\n",
       "      dtype='object')"
      ]
     },
     "execution_count": 435,
     "metadata": {},
     "output_type": "execute_result"
    }
   ],
   "source": [
    "df.columns"
   ]
  },
  {
   "cell_type": "code",
   "execution_count": 436,
   "metadata": {},
   "outputs": [],
   "source": [
    "x = df.drop(columns=['claim_amount'])\n",
    "y = df['claim_amount']\n",
    "x_train, x_test, y_train, y_test = train_test_split(x, y, test_size=0.3, random_state=2021)"
   ]
  },
  {
   "cell_type": "code",
   "execution_count": 437,
   "metadata": {},
   "outputs": [],
   "source": [
    "df = x_train.copy()\n",
    "df['claim_amount'] = y_train\n",
    "agg = df.groupby('id_policy').agg({\n",
    "    'pol_no_claims_discount': np.mean,\n",
    "    'pol_coverage': np.max,\n",
    "    'pol_payd': np.max,\n",
    "    'pol_usage': np.max,\n",
    "    'drv_sex1': np.max,\n",
    "    'drv_age1': np.mean,\n",
    "    'drv_age_lic1': np.mean,\n",
    "    'drv_drv2': np.max,\n",
    "    'vh_age': np.mean,\n",
    "    'vh_fuel': np.max,\n",
    "    'vh_type': np.max,\n",
    "    'vh_speed': np.max,\n",
    "    'vh_value': np.mean,\n",
    "    'vh_weight': np.max,\n",
    "    'population': np.mean,\n",
    "    'town_surface_area': np.mean,\n",
    "    'claim_amount': np.mean\n",
    "})"
   ]
  },
  {
   "cell_type": "code",
   "execution_count": 438,
   "metadata": {},
   "outputs": [],
   "source": [
    "# Remove rows with missing population data\n",
    "agg = agg[agg.population > 0]\n",
    "# Remove rows with missing vehicle weight data\n",
    "agg = agg[agg.vh_weight > 0]\n",
    "# Remove rows with missing vehicle age data\n",
    "agg = agg.dropna()\n",
    "\n",
    "agg = agg[agg.claim_amount < 2500]"
   ]
  },
  {
   "cell_type": "code",
   "execution_count": 439,
   "metadata": {},
   "outputs": [
    {
     "data": {
      "text/html": [
       "<div>\n",
       "<style scoped>\n",
       "    .dataframe tbody tr th:only-of-type {\n",
       "        vertical-align: middle;\n",
       "    }\n",
       "\n",
       "    .dataframe tbody tr th {\n",
       "        vertical-align: top;\n",
       "    }\n",
       "\n",
       "    .dataframe thead th {\n",
       "        text-align: right;\n",
       "    }\n",
       "</style>\n",
       "<table border=\"1\" class=\"dataframe\">\n",
       "  <thead>\n",
       "    <tr style=\"text-align: right;\">\n",
       "      <th></th>\n",
       "      <th>pol_no_claims_discount</th>\n",
       "      <th>pol_coverage</th>\n",
       "      <th>pol_payd</th>\n",
       "      <th>pol_usage</th>\n",
       "      <th>drv_sex1</th>\n",
       "      <th>drv_age1</th>\n",
       "      <th>drv_age_lic1</th>\n",
       "      <th>drv_drv2</th>\n",
       "      <th>vh_age</th>\n",
       "      <th>vh_fuel</th>\n",
       "      <th>vh_type</th>\n",
       "      <th>vh_speed</th>\n",
       "      <th>vh_value</th>\n",
       "      <th>vh_weight</th>\n",
       "      <th>population</th>\n",
       "      <th>town_surface_area</th>\n",
       "      <th>claim_amount</th>\n",
       "    </tr>\n",
       "    <tr>\n",
       "      <th>id_policy</th>\n",
       "      <th></th>\n",
       "      <th></th>\n",
       "      <th></th>\n",
       "      <th></th>\n",
       "      <th></th>\n",
       "      <th></th>\n",
       "      <th></th>\n",
       "      <th></th>\n",
       "      <th></th>\n",
       "      <th></th>\n",
       "      <th></th>\n",
       "      <th></th>\n",
       "      <th></th>\n",
       "      <th></th>\n",
       "      <th></th>\n",
       "      <th></th>\n",
       "      <th></th>\n",
       "    </tr>\n",
       "  </thead>\n",
       "  <tbody>\n",
       "    <tr>\n",
       "      <th>PL000000</th>\n",
       "      <td>0.25075</td>\n",
       "      <td>Med2</td>\n",
       "      <td>No</td>\n",
       "      <td>WorkPrivate</td>\n",
       "      <td>M</td>\n",
       "      <td>36.500000</td>\n",
       "      <td>17.500000</td>\n",
       "      <td>Yes</td>\n",
       "      <td>9.500000</td>\n",
       "      <td>Gasoline</td>\n",
       "      <td>Tourism</td>\n",
       "      <td>174.0</td>\n",
       "      <td>11040.0</td>\n",
       "      <td>1143.0</td>\n",
       "      <td>1270.0</td>\n",
       "      <td>33.1</td>\n",
       "      <td>0.0000</td>\n",
       "    </tr>\n",
       "    <tr>\n",
       "      <th>PL000001</th>\n",
       "      <td>0.00000</td>\n",
       "      <td>Max</td>\n",
       "      <td>No</td>\n",
       "      <td>WorkPrivate</td>\n",
       "      <td>F</td>\n",
       "      <td>47.000000</td>\n",
       "      <td>29.000000</td>\n",
       "      <td>No</td>\n",
       "      <td>13.000000</td>\n",
       "      <td>Diesel</td>\n",
       "      <td>Tourism</td>\n",
       "      <td>182.0</td>\n",
       "      <td>12820.0</td>\n",
       "      <td>1036.0</td>\n",
       "      <td>80.0</td>\n",
       "      <td>139.3</td>\n",
       "      <td>0.0000</td>\n",
       "    </tr>\n",
       "    <tr>\n",
       "      <th>PL000003</th>\n",
       "      <td>0.00000</td>\n",
       "      <td>Min</td>\n",
       "      <td>No</td>\n",
       "      <td>WorkPrivate</td>\n",
       "      <td>M</td>\n",
       "      <td>55.500000</td>\n",
       "      <td>36.500000</td>\n",
       "      <td>No</td>\n",
       "      <td>29.500000</td>\n",
       "      <td>Diesel</td>\n",
       "      <td>Tourism</td>\n",
       "      <td>156.0</td>\n",
       "      <td>25378.0</td>\n",
       "      <td>2554.0</td>\n",
       "      <td>420.0</td>\n",
       "      <td>673.7</td>\n",
       "      <td>0.0000</td>\n",
       "    </tr>\n",
       "    <tr>\n",
       "      <th>PL000005</th>\n",
       "      <td>0.00000</td>\n",
       "      <td>Max</td>\n",
       "      <td>No</td>\n",
       "      <td>Professional</td>\n",
       "      <td>M</td>\n",
       "      <td>75.500000</td>\n",
       "      <td>55.500000</td>\n",
       "      <td>Yes</td>\n",
       "      <td>4.500000</td>\n",
       "      <td>Gasoline</td>\n",
       "      <td>Tourism</td>\n",
       "      <td>181.0</td>\n",
       "      <td>21171.0</td>\n",
       "      <td>1305.0</td>\n",
       "      <td>420.0</td>\n",
       "      <td>184.0</td>\n",
       "      <td>542.1325</td>\n",
       "    </tr>\n",
       "    <tr>\n",
       "      <th>PL000007</th>\n",
       "      <td>0.00000</td>\n",
       "      <td>Max</td>\n",
       "      <td>No</td>\n",
       "      <td>Retired</td>\n",
       "      <td>F</td>\n",
       "      <td>86.666667</td>\n",
       "      <td>66.666667</td>\n",
       "      <td>No</td>\n",
       "      <td>2.666667</td>\n",
       "      <td>Diesel</td>\n",
       "      <td>Tourism</td>\n",
       "      <td>182.0</td>\n",
       "      <td>12820.0</td>\n",
       "      <td>1036.0</td>\n",
       "      <td>360.0</td>\n",
       "      <td>131.7</td>\n",
       "      <td>0.0000</td>\n",
       "    </tr>\n",
       "  </tbody>\n",
       "</table>\n",
       "</div>"
      ],
      "text/plain": [
       "           pol_no_claims_discount pol_coverage pol_payd     pol_usage  \\\n",
       "id_policy                                                               \n",
       "PL000000                  0.25075         Med2       No   WorkPrivate   \n",
       "PL000001                  0.00000          Max       No   WorkPrivate   \n",
       "PL000003                  0.00000          Min       No   WorkPrivate   \n",
       "PL000005                  0.00000          Max       No  Professional   \n",
       "PL000007                  0.00000          Max       No       Retired   \n",
       "\n",
       "          drv_sex1   drv_age1  drv_age_lic1 drv_drv2     vh_age   vh_fuel  \\\n",
       "id_policy                                                                   \n",
       "PL000000         M  36.500000     17.500000      Yes   9.500000  Gasoline   \n",
       "PL000001         F  47.000000     29.000000       No  13.000000    Diesel   \n",
       "PL000003         M  55.500000     36.500000       No  29.500000    Diesel   \n",
       "PL000005         M  75.500000     55.500000      Yes   4.500000  Gasoline   \n",
       "PL000007         F  86.666667     66.666667       No   2.666667    Diesel   \n",
       "\n",
       "           vh_type  vh_speed  vh_value  vh_weight  population  \\\n",
       "id_policy                                                       \n",
       "PL000000   Tourism     174.0   11040.0     1143.0      1270.0   \n",
       "PL000001   Tourism     182.0   12820.0     1036.0        80.0   \n",
       "PL000003   Tourism     156.0   25378.0     2554.0       420.0   \n",
       "PL000005   Tourism     181.0   21171.0     1305.0       420.0   \n",
       "PL000007   Tourism     182.0   12820.0     1036.0       360.0   \n",
       "\n",
       "           town_surface_area  claim_amount  \n",
       "id_policy                                   \n",
       "PL000000                33.1        0.0000  \n",
       "PL000001               139.3        0.0000  \n",
       "PL000003               673.7        0.0000  \n",
       "PL000005               184.0      542.1325  \n",
       "PL000007               131.7        0.0000  "
      ]
     },
     "execution_count": 439,
     "metadata": {},
     "output_type": "execute_result"
    }
   ],
   "source": [
    "agg.head()"
   ]
  },
  {
   "cell_type": "code",
   "execution_count": 440,
   "metadata": {},
   "outputs": [],
   "source": [
    "agg_x = agg.drop(columns=['claim_amount'])\n",
    "agg_y = agg['claim_amount']"
   ]
  },
  {
   "cell_type": "code",
   "execution_count": 441,
   "metadata": {},
   "outputs": [],
   "source": [
    "agg_x = pd.get_dummies(agg_x, prefix=['coverage', 'payd', 'usage', 'sex', 'drv2', 'fuel', 'type'],\n",
    "                       columns=['pol_coverage', 'pol_payd', 'pol_usage', 'drv_sex1', 'drv_drv2', 'vh_fuel', 'vh_type'])"
   ]
  },
  {
   "cell_type": "code",
   "execution_count": 442,
   "metadata": {},
   "outputs": [
    {
     "data": {
      "text/html": [
       "<div>\n",
       "<style scoped>\n",
       "    .dataframe tbody tr th:only-of-type {\n",
       "        vertical-align: middle;\n",
       "    }\n",
       "\n",
       "    .dataframe tbody tr th {\n",
       "        vertical-align: top;\n",
       "    }\n",
       "\n",
       "    .dataframe thead th {\n",
       "        text-align: right;\n",
       "    }\n",
       "</style>\n",
       "<table border=\"1\" class=\"dataframe\">\n",
       "  <thead>\n",
       "    <tr style=\"text-align: right;\">\n",
       "      <th></th>\n",
       "      <th>pol_no_claims_discount</th>\n",
       "      <th>drv_age1</th>\n",
       "      <th>drv_age_lic1</th>\n",
       "      <th>vh_age</th>\n",
       "      <th>vh_speed</th>\n",
       "      <th>vh_value</th>\n",
       "      <th>vh_weight</th>\n",
       "      <th>population</th>\n",
       "      <th>town_surface_area</th>\n",
       "      <th>coverage_Max</th>\n",
       "      <th>...</th>\n",
       "      <th>usage_WorkPrivate</th>\n",
       "      <th>sex_F</th>\n",
       "      <th>sex_M</th>\n",
       "      <th>drv2_No</th>\n",
       "      <th>drv2_Yes</th>\n",
       "      <th>fuel_Diesel</th>\n",
       "      <th>fuel_Gasoline</th>\n",
       "      <th>fuel_Hybrid</th>\n",
       "      <th>type_Commercial</th>\n",
       "      <th>type_Tourism</th>\n",
       "    </tr>\n",
       "    <tr>\n",
       "      <th>id_policy</th>\n",
       "      <th></th>\n",
       "      <th></th>\n",
       "      <th></th>\n",
       "      <th></th>\n",
       "      <th></th>\n",
       "      <th></th>\n",
       "      <th></th>\n",
       "      <th></th>\n",
       "      <th></th>\n",
       "      <th></th>\n",
       "      <th></th>\n",
       "      <th></th>\n",
       "      <th></th>\n",
       "      <th></th>\n",
       "      <th></th>\n",
       "      <th></th>\n",
       "      <th></th>\n",
       "      <th></th>\n",
       "      <th></th>\n",
       "      <th></th>\n",
       "      <th></th>\n",
       "    </tr>\n",
       "  </thead>\n",
       "  <tbody>\n",
       "    <tr>\n",
       "      <th>PL000000</th>\n",
       "      <td>0.25075</td>\n",
       "      <td>36.500000</td>\n",
       "      <td>17.500000</td>\n",
       "      <td>9.500000</td>\n",
       "      <td>174.0</td>\n",
       "      <td>11040.0</td>\n",
       "      <td>1143.0</td>\n",
       "      <td>1270.0</td>\n",
       "      <td>33.1</td>\n",
       "      <td>0</td>\n",
       "      <td>...</td>\n",
       "      <td>1</td>\n",
       "      <td>0</td>\n",
       "      <td>1</td>\n",
       "      <td>0</td>\n",
       "      <td>1</td>\n",
       "      <td>0</td>\n",
       "      <td>1</td>\n",
       "      <td>0</td>\n",
       "      <td>0</td>\n",
       "      <td>1</td>\n",
       "    </tr>\n",
       "    <tr>\n",
       "      <th>PL000001</th>\n",
       "      <td>0.00000</td>\n",
       "      <td>47.000000</td>\n",
       "      <td>29.000000</td>\n",
       "      <td>13.000000</td>\n",
       "      <td>182.0</td>\n",
       "      <td>12820.0</td>\n",
       "      <td>1036.0</td>\n",
       "      <td>80.0</td>\n",
       "      <td>139.3</td>\n",
       "      <td>1</td>\n",
       "      <td>...</td>\n",
       "      <td>1</td>\n",
       "      <td>1</td>\n",
       "      <td>0</td>\n",
       "      <td>1</td>\n",
       "      <td>0</td>\n",
       "      <td>1</td>\n",
       "      <td>0</td>\n",
       "      <td>0</td>\n",
       "      <td>0</td>\n",
       "      <td>1</td>\n",
       "    </tr>\n",
       "    <tr>\n",
       "      <th>PL000003</th>\n",
       "      <td>0.00000</td>\n",
       "      <td>55.500000</td>\n",
       "      <td>36.500000</td>\n",
       "      <td>29.500000</td>\n",
       "      <td>156.0</td>\n",
       "      <td>25378.0</td>\n",
       "      <td>2554.0</td>\n",
       "      <td>420.0</td>\n",
       "      <td>673.7</td>\n",
       "      <td>0</td>\n",
       "      <td>...</td>\n",
       "      <td>1</td>\n",
       "      <td>0</td>\n",
       "      <td>1</td>\n",
       "      <td>1</td>\n",
       "      <td>0</td>\n",
       "      <td>1</td>\n",
       "      <td>0</td>\n",
       "      <td>0</td>\n",
       "      <td>0</td>\n",
       "      <td>1</td>\n",
       "    </tr>\n",
       "    <tr>\n",
       "      <th>PL000005</th>\n",
       "      <td>0.00000</td>\n",
       "      <td>75.500000</td>\n",
       "      <td>55.500000</td>\n",
       "      <td>4.500000</td>\n",
       "      <td>181.0</td>\n",
       "      <td>21171.0</td>\n",
       "      <td>1305.0</td>\n",
       "      <td>420.0</td>\n",
       "      <td>184.0</td>\n",
       "      <td>1</td>\n",
       "      <td>...</td>\n",
       "      <td>0</td>\n",
       "      <td>0</td>\n",
       "      <td>1</td>\n",
       "      <td>0</td>\n",
       "      <td>1</td>\n",
       "      <td>0</td>\n",
       "      <td>1</td>\n",
       "      <td>0</td>\n",
       "      <td>0</td>\n",
       "      <td>1</td>\n",
       "    </tr>\n",
       "    <tr>\n",
       "      <th>PL000007</th>\n",
       "      <td>0.00000</td>\n",
       "      <td>86.666667</td>\n",
       "      <td>66.666667</td>\n",
       "      <td>2.666667</td>\n",
       "      <td>182.0</td>\n",
       "      <td>12820.0</td>\n",
       "      <td>1036.0</td>\n",
       "      <td>360.0</td>\n",
       "      <td>131.7</td>\n",
       "      <td>1</td>\n",
       "      <td>...</td>\n",
       "      <td>0</td>\n",
       "      <td>1</td>\n",
       "      <td>0</td>\n",
       "      <td>1</td>\n",
       "      <td>0</td>\n",
       "      <td>1</td>\n",
       "      <td>0</td>\n",
       "      <td>0</td>\n",
       "      <td>0</td>\n",
       "      <td>1</td>\n",
       "    </tr>\n",
       "  </tbody>\n",
       "</table>\n",
       "<p>5 rows × 28 columns</p>\n",
       "</div>"
      ],
      "text/plain": [
       "           pol_no_claims_discount   drv_age1  drv_age_lic1     vh_age  \\\n",
       "id_policy                                                               \n",
       "PL000000                  0.25075  36.500000     17.500000   9.500000   \n",
       "PL000001                  0.00000  47.000000     29.000000  13.000000   \n",
       "PL000003                  0.00000  55.500000     36.500000  29.500000   \n",
       "PL000005                  0.00000  75.500000     55.500000   4.500000   \n",
       "PL000007                  0.00000  86.666667     66.666667   2.666667   \n",
       "\n",
       "           vh_speed  vh_value  vh_weight  population  town_surface_area  \\\n",
       "id_policy                                                                 \n",
       "PL000000      174.0   11040.0     1143.0      1270.0               33.1   \n",
       "PL000001      182.0   12820.0     1036.0        80.0              139.3   \n",
       "PL000003      156.0   25378.0     2554.0       420.0              673.7   \n",
       "PL000005      181.0   21171.0     1305.0       420.0              184.0   \n",
       "PL000007      182.0   12820.0     1036.0       360.0              131.7   \n",
       "\n",
       "           coverage_Max  ...  usage_WorkPrivate  sex_F  sex_M  drv2_No  \\\n",
       "id_policy                ...                                             \n",
       "PL000000              0  ...                  1      0      1        0   \n",
       "PL000001              1  ...                  1      1      0        1   \n",
       "PL000003              0  ...                  1      0      1        1   \n",
       "PL000005              1  ...                  0      0      1        0   \n",
       "PL000007              1  ...                  0      1      0        1   \n",
       "\n",
       "           drv2_Yes  fuel_Diesel  fuel_Gasoline  fuel_Hybrid  type_Commercial  \\\n",
       "id_policy                                                                       \n",
       "PL000000          1            0              1            0                0   \n",
       "PL000001          0            1              0            0                0   \n",
       "PL000003          0            1              0            0                0   \n",
       "PL000005          1            0              1            0                0   \n",
       "PL000007          0            1              0            0                0   \n",
       "\n",
       "           type_Tourism  \n",
       "id_policy                \n",
       "PL000000              1  \n",
       "PL000001              1  \n",
       "PL000003              1  \n",
       "PL000005              1  \n",
       "PL000007              1  \n",
       "\n",
       "[5 rows x 28 columns]"
      ]
     },
     "execution_count": 442,
     "metadata": {},
     "output_type": "execute_result"
    }
   ],
   "source": [
    "agg_x.head()"
   ]
  },
  {
   "cell_type": "code",
   "execution_count": 443,
   "metadata": {},
   "outputs": [
    {
     "data": {
      "text/plain": [
       "id_policy\n",
       "PL000000      0.0000\n",
       "PL000001      0.0000\n",
       "PL000003      0.0000\n",
       "PL000005    542.1325\n",
       "PL000007      0.0000\n",
       "Name: claim_amount, dtype: float64"
      ]
     },
     "execution_count": 443,
     "metadata": {},
     "output_type": "execute_result"
    }
   ],
   "source": [
    "agg_y.head()"
   ]
  },
  {
   "cell_type": "code",
   "execution_count": 444,
   "metadata": {},
   "outputs": [],
   "source": [
    "def prepare_test_data(x, transformer):\n",
    "\n",
    "    params = ['pol_no_claims_discount',\n",
    "    'pol_coverage',\n",
    "    'pol_payd',\n",
    "    'pol_usage',\n",
    "    'drv_sex1',\n",
    "    'drv_age1',\n",
    "    'drv_age_lic1',\n",
    "    'drv_drv2',\n",
    "    'vh_age',\n",
    "    'vh_fuel',\n",
    "    'vh_type',\n",
    "    'vh_speed',\n",
    "    'vh_value',\n",
    "    'vh_weight',\n",
    "    'population',\n",
    "    'town_surface_area']\n",
    "\n",
    "    x = x[params]\n",
    "\n",
    "    x = pd.get_dummies(x, prefix=['coverage', 'payd', 'usage', 'sex', 'drv2', 'fuel', 'type'],\n",
    "                       columns=['pol_coverage', 'pol_payd', 'pol_usage', 'drv_sex1', 'drv_drv2', 'vh_fuel', 'vh_type'])\n",
    "  \n",
    "    # Replace NaNs with column mean\n",
    "    x = x.fillna(x.mean())\n",
    "\n",
    "    x = transformer.transform(x)\n",
    "\n",
    "    return x"
   ]
  },
  {
   "cell_type": "code",
   "execution_count": 445,
   "metadata": {},
   "outputs": [],
   "source": [
    "# Normalize data\n",
    "transformer = Normalizer().fit(agg_x)\n",
    "x_train = transformer.transform(agg_x)\n",
    "y_train = agg_y\n",
    "x_test = prepare_test_data(x_test, transformer)"
   ]
  },
  {
   "cell_type": "markdown",
   "metadata": {},
   "source": [
    "### Linear Regression"
   ]
  },
  {
   "cell_type": "code",
   "execution_count": 446,
   "metadata": {},
   "outputs": [],
   "source": [
    "reg = LinearRegression().fit(x_train, y_train)\n",
    "\n",
    "train_preds = reg.predict(x_train)\n",
    "train_preds[train_preds < 0] = 0\n",
    "\n",
    "test_preds = reg.predict(x_test)\n",
    "test_preds[test_preds < 0] = 0"
   ]
  },
  {
   "cell_type": "code",
   "execution_count": 590,
   "metadata": {},
   "outputs": [
    {
     "data": {
      "text/plain": [
       "279.4894257614839"
      ]
     },
     "execution_count": 590,
     "metadata": {},
     "output_type": "execute_result"
    }
   ],
   "source": [
    "mean_squared_error(y_train, train_preds, squared=False)"
   ]
  },
  {
   "cell_type": "code",
   "execution_count": 591,
   "metadata": {},
   "outputs": [
    {
     "data": {
      "text/plain": [
       "803.9185923740134"
      ]
     },
     "execution_count": 591,
     "metadata": {},
     "output_type": "execute_result"
    }
   ],
   "source": [
    "mean_squared_error(y_test, test_preds, squared=False)"
   ]
  },
  {
   "cell_type": "markdown",
   "metadata": {},
   "source": [
    "### Penalized LR"
   ]
  },
  {
   "cell_type": "code",
   "execution_count": 608,
   "metadata": {},
   "outputs": [],
   "source": [
    "from sklearn.linear_model import RidgeCV\n",
    "from sklearn.linear_model import LassoCV\n",
    "\n",
    "alphas = [0.001, 0.01, 0.05, 0.1, 0.15, 0.2, 0.4, 0.5, 0.8, 1, 1.5]\n",
    "ridge = RidgeCV(alphas=alphas)\n",
    "ridge.fit(x_train, y_train)\n",
    "\n",
    "train_preds = ridge.predict(x_train)\n",
    "train_preds[train_preds < 0] = 0\n",
    "\n",
    "test_preds = ridge.predict(x_test)\n",
    "test_preds[test_preds < 0] = 0"
   ]
  },
  {
   "cell_type": "code",
   "execution_count": 605,
   "metadata": {},
   "outputs": [
    {
     "data": {
      "text/plain": [
       "280.15266951391925"
      ]
     },
     "execution_count": 605,
     "metadata": {},
     "output_type": "execute_result"
    }
   ],
   "source": [
    "mean_squared_error(y_train, train_preds, squared=False)"
   ]
  },
  {
   "cell_type": "code",
   "execution_count": 606,
   "metadata": {},
   "outputs": [
    {
     "data": {
      "text/plain": [
       "804.1028769237731"
      ]
     },
     "execution_count": 606,
     "metadata": {},
     "output_type": "execute_result"
    }
   ],
   "source": [
    "mean_squared_error(y_test, test_preds, squared=False)"
   ]
  },
  {
   "cell_type": "code",
   "execution_count": 610,
   "metadata": {},
   "outputs": [],
   "source": [
    "lasso = LassoCV()\n",
    "lasso.fit(x_train, y_train)\n",
    "train_preds = lasso.predict(x_train)\n",
    "train_preds[train_preds < 0] = 0\n",
    "\n",
    "test_preds = lasso.predict(x_test)\n",
    "test_preds[test_preds < 0] = 0"
   ]
  },
  {
   "cell_type": "code",
   "execution_count": 611,
   "metadata": {},
   "outputs": [
    {
     "data": {
      "text/plain": [
       "280.32271935601676"
      ]
     },
     "execution_count": 611,
     "metadata": {},
     "output_type": "execute_result"
    }
   ],
   "source": [
    "mean_squared_error(y_train, train_preds, squared=False)"
   ]
  },
  {
   "cell_type": "code",
   "execution_count": 612,
   "metadata": {},
   "outputs": [
    {
     "data": {
      "text/plain": [
       "804.1820733288081"
      ]
     },
     "execution_count": 612,
     "metadata": {},
     "output_type": "execute_result"
    }
   ],
   "source": [
    "mean_squared_error(y_test, test_preds, squared=False)"
   ]
  },
  {
   "cell_type": "markdown",
   "metadata": {},
   "source": [
    "### Random Forest"
   ]
  },
  {
   "cell_type": "code",
   "execution_count": 449,
   "metadata": {},
   "outputs": [],
   "source": [
    "from sklearn.ensemble import RandomForestRegressor"
   ]
  },
  {
   "cell_type": "code",
   "execution_count": 585,
   "metadata": {},
   "outputs": [],
   "source": [
    "n_estimators = 25\n",
    "max_depth = 7\n",
    "max_features = 'log2'"
   ]
  },
  {
   "cell_type": "code",
   "execution_count": 586,
   "metadata": {},
   "outputs": [],
   "source": [
    "regr = RandomForestRegressor(n_estimators=n_estimators, max_depth=max_depth,\n",
    "                             max_features=max_features, random_state=2021)"
   ]
  },
  {
   "cell_type": "code",
   "execution_count": 592,
   "metadata": {},
   "outputs": [],
   "source": [
    "regr.fit(x_train, y_train)\n",
    "\n",
    "train_preds = regr.predict(x_train)\n",
    "train_preds[train_preds < 0] = 0\n",
    "\n",
    "test_preds = regr.predict(x_test)\n",
    "test_preds[test_preds < 0] = 0"
   ]
  },
  {
   "cell_type": "code",
   "execution_count": 593,
   "metadata": {},
   "outputs": [
    {
     "data": {
      "text/plain": [
       "272.15352273352994"
      ]
     },
     "execution_count": 593,
     "metadata": {},
     "output_type": "execute_result"
    }
   ],
   "source": [
    "mean_squared_error(y_train, train_preds, squared=False)"
   ]
  },
  {
   "cell_type": "code",
   "execution_count": 594,
   "metadata": {},
   "outputs": [
    {
     "data": {
      "text/plain": [
       "802.4536992091906"
      ]
     },
     "execution_count": 594,
     "metadata": {},
     "output_type": "execute_result"
    }
   ],
   "source": [
    "mean_squared_error(y_test, test_preds, squared=False)"
   ]
  },
  {
   "cell_type": "markdown",
   "metadata": {},
   "source": [
    "### XGBoost"
   ]
  },
  {
   "cell_type": "code",
   "execution_count": 613,
   "metadata": {},
   "outputs": [],
   "source": [
    "import xgboost as xgb"
   ]
  },
  {
   "cell_type": "code",
   "execution_count": 736,
   "metadata": {},
   "outputs": [],
   "source": [
    "regressor = xgb.XGBRegressor(\n",
    "    n_estimators=25,\n",
    "    reg_lambda=0.1,\n",
    "    gamma=2,\n",
    "    max_depth=4\n",
    ")"
   ]
  },
  {
   "cell_type": "code",
   "execution_count": 737,
   "metadata": {},
   "outputs": [],
   "source": [
    "regressor.fit(x_train, y_train)\n",
    "\n",
    "train_preds = regressor.predict(x_train)\n",
    "train_preds[train_preds < 0] = 0\n",
    "\n",
    "test_preds = regressor.predict(x_test)\n",
    "test_preds[test_preds < 0] = 0"
   ]
  },
  {
   "cell_type": "code",
   "execution_count": 738,
   "metadata": {},
   "outputs": [
    {
     "data": {
      "text/plain": [
       "267.2583423278272"
      ]
     },
     "execution_count": 738,
     "metadata": {},
     "output_type": "execute_result"
    }
   ],
   "source": [
    "mean_squared_error(y_train, train_preds, squared=False)"
   ]
  },
  {
   "cell_type": "code",
   "execution_count": 739,
   "metadata": {},
   "outputs": [
    {
     "data": {
      "text/plain": [
       "802.5065079969723"
      ]
     },
     "execution_count": 739,
     "metadata": {},
     "output_type": "execute_result"
    }
   ],
   "source": [
    "mean_squared_error(y_test, test_preds, squared=False)"
   ]
  },
  {
   "cell_type": "code",
   "execution_count": null,
   "metadata": {},
   "outputs": [],
   "source": []
  }
 ],
 "metadata": {
  "kernelspec": {
   "display_name": "Python 3",
   "language": "python",
   "name": "python3"
  },
  "language_info": {
   "codemirror_mode": {
    "name": "ipython",
    "version": 3
   },
   "file_extension": ".py",
   "mimetype": "text/x-python",
   "name": "python",
   "nbconvert_exporter": "python",
   "pygments_lexer": "ipython3",
   "version": "3.6.5"
  }
 },
 "nbformat": 4,
 "nbformat_minor": 4
}
