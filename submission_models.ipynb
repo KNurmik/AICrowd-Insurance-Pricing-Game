{
 "cells": [
  {
   "cell_type": "code",
   "execution_count": 1,
   "metadata": {},
   "outputs": [],
   "source": [
    "import numpy as np\n",
    "import pandas as pd\n",
    "import sklearn\n",
    "from sklearn.model_selection import train_test_split\n",
    "from sklearn.preprocessing import StandardScaler\n",
    "from sklearn.metrics import mean_squared_error\n",
    "import re"
   ]
  },
  {
   "cell_type": "code",
   "execution_count": 104,
   "metadata": {},
   "outputs": [],
   "source": [
    "df = pd.read_csv('data/training.csv')\n",
    "\n",
    "y = df['claim_amount']\n",
    "df = df.drop(columns=['claim_amount'])\n",
    "\n",
    "def wrangle(df):\n",
    "    \n",
    "    original_len = len(df)\n",
    "    \n",
    "    # Replace 0 vehicle weight with mean\n",
    "    df.vh_weight = df.vh_weight.replace(0.0, np.mean(df[df.vh_weight > 0].vh_weight))\n",
    "    \n",
    "    # Replace NaNs with column mean\n",
    "    nans = ['vh_age', 'vh_speed', 'vh_value', 'vh_weight']\n",
    "    df[nans] = df[nans].fillna(df[nans].mean())\n",
    "    \n",
    "    # Join first year data\n",
    "    df = df.merge(df[df.year == 1.0][['id_policy', 'pol_no_claims_discount']],\n",
    "                  on='id_policy', suffixes=('', '_first'), how='left')\n",
    "    \n",
    "    # Change from beginning discount level\n",
    "    df['discount_base_change'] = df.pol_no_claims_discount - 0.631\n",
    "    # Yearly discount change over licence ownership\n",
    "    df['discount_yearly_change'] = df.discount_base_change / df.drv_age_lic1\n",
    "    \n",
    "    # Discount change from policy beginning\n",
    "    df['discount_change'] = df.pol_no_claims_discount - df.pol_no_claims_discount_first\n",
    "    # Approx. no. of claims since first year\n",
    "    df['no_claims'] = np.maximum(np.zeros_like(df.year), np.ceil(df.discount_change / 0.2))\n",
    "    \n",
    "    # Driver 1 and 2 combined info\n",
    "    df['drv_sex2'] = df.drv_sex2.replace('0', '')\n",
    "    df['drv_sexes'] = df.apply(lambda row: ''.join(sorted(row.drv_sex1 + row.drv_sex2)), axis=1)\n",
    "    df['drv_avg_age'] = np.mean(df[['drv_age1', 'drv_age2']], axis=1)\n",
    "    df['drv_avg_lic'] = np.mean(df[['drv_age_lic1', 'drv_age_lic2']], axis=1)\n",
    "    \n",
    "    # Population density\n",
    "    df['pop_dens'] = df.population / df.town_surface_area\n",
    "    \n",
    "    # Drop unnecessary cols\n",
    "    df = df.drop(columns=['id_policy', 'drv_drv2', 'drv_sex2', 'drv_age2', 'drv_age_lic2',\n",
    "                         'vh_make_model', 'pol_pay_freq', 'pol_no_claims_discount_first'])\n",
    "    \n",
    "    # One-hot encoding for categorical variables\n",
    "    cats = ['pol_coverage', 'pol_payd', 'pol_usage', 'drv_sex1', 'vh_fuel', 'vh_type',\n",
    "           'drv_sexes']\n",
    "    df = pd.get_dummies(df, prefix=cats,\n",
    "                       columns=cats)\n",
    "    \n",
    "    assert len(df) == original_len\n",
    "    return df\n",
    "\n",
    "def normalize(df, normalizer=None):\n",
    "    \n",
    "    cats = ['pol_coverage', 'pol_pay_freq', 'pol_payd', 'pol_usage', 'drv_sex1', 'vh_fuel', 'vh_type',\n",
    "           'drv_sexes']\n",
    "    dont_normalize = ['pol_no_claims_discount', 'discount_base_change', 'discount_yearly_change',\n",
    "                                                                     'discount_change']\n",
    "    \n",
    "    # Don't normalize categorical variables nor those in dont_normalize\n",
    "    to_normalize = [elem for elem in list(df.columns) if elem not in dont_normalize \n",
    "                    and '_'.join(elem.split('_')[:-1]) not in cats]\n",
    "\n",
    "    if normalizer is None:\n",
    "        normalizer = StandardScaler()\n",
    "        normalizer = normalizer.fit(df[to_normalize])\n",
    "        \n",
    "    df[to_normalize] = normalizer.transform(df[to_normalize])\n",
    "    return df, normalizer\n",
    "\n",
    "df = wrangle(df)\n",
    "\n",
    "y = y[df.year != 1]\n",
    "df = df[df.year != 1]\n",
    "\n",
    "df = df.drop(columns=['year'])\n",
    "\n",
    "x_train, x_test, y_train, y_test = train_test_split(df, y, test_size=0.2, random_state=2021)\n",
    "# x_train = df[df.year!=4]\n",
    "# y_train = y[df.year!=4]\n",
    "# x_test = df[df.year==4]\n",
    "# y_test = y[df.year==4]\n",
    "\n",
    "# x_train, norm = normalize(x_train)\n",
    "# x_test, blah = normalize(x_test, norm)"
   ]
  },
  {
   "cell_type": "code",
   "execution_count": 105,
   "metadata": {},
   "outputs": [
    {
     "name": "stdout",
     "output_type": "stream",
     "text": [
      "Train: 696.3502282964719\n",
      "Test: 664.7405171664835\n"
     ]
    }
   ],
   "source": [
    "from sklearn.linear_model import LinearRegression\n",
    "\n",
    "reg = LinearRegression().fit(x_train, y_train)\n",
    "\n",
    "train_preds = reg.predict(x_train)\n",
    "train_preds[train_preds < 0] = 0\n",
    "\n",
    "lr_test_preds = reg.predict(x_test)\n",
    "lr_test_preds[lr_test_preds < 0] = 0\n",
    "\n",
    "train_error = mean_squared_error(y_train, train_preds, squared=False)\n",
    "test_error = mean_squared_error(y_test, lr_test_preds, squared=False)\n",
    "\n",
    "print(\"Train: {}\\nTest: {}\".format(train_error, test_error))"
   ]
  },
  {
   "cell_type": "code",
   "execution_count": 106,
   "metadata": {},
   "outputs": [
    {
     "name": "stdout",
     "output_type": "stream",
     "text": [
      "Train: 696.3540169594413\n",
      "Test: 664.7430345538231\n"
     ]
    }
   ],
   "source": [
    "from sklearn.linear_model import RidgeCV\n",
    "from sklearn.linear_model import LassoCV\n",
    "\n",
    "alphas = [0.001, 0.01, 0.05, 0.1, 0.15, 0.2, 0.4, 0.5, 0.8, 1, 1.5]\n",
    "ridge = RidgeCV(alphas=alphas)\n",
    "ridge.fit(x_train, y_train)\n",
    "\n",
    "train_preds = ridge.predict(x_train)\n",
    "train_preds[train_preds < 0] = 0\n",
    "\n",
    "test_preds = ridge.predict(x_test)\n",
    "test_preds[test_preds < 0] = 0\n",
    "\n",
    "train_error = mean_squared_error(y_train, train_preds, squared=False)\n",
    "test_error = mean_squared_error(y_test, test_preds, squared=False)\n",
    "\n",
    "print(\"Train: {}\\nTest: {}\".format(train_error, test_error))"
   ]
  },
  {
   "cell_type": "code",
   "execution_count": 107,
   "metadata": {},
   "outputs": [
    {
     "name": "stdout",
     "output_type": "stream",
     "text": [
      "Train: 683.51767538742\n",
      "Test: 664.6873866470963\n"
     ]
    }
   ],
   "source": [
    "from sklearn.ensemble import RandomForestRegressor\n",
    "\n",
    "n_estimators = 150\n",
    "max_depth = 12\n",
    "max_features = 'log2'\n",
    "min_samples_split = 200\n",
    "max_leaf_nodes = None\n",
    "\n",
    "reg = RandomForestRegressor(n_estimators=n_estimators, max_depth=max_depth, max_leaf_nodes=max_leaf_nodes,\n",
    "                             max_features=max_features, min_samples_split=min_samples_split, bootstrap=True).fit(x_train, y_train)\n",
    "\n",
    "train_preds = reg.predict(x_train)\n",
    "train_preds[train_preds < 0] = 0\n",
    "\n",
    "rf_test_preds = reg.predict(x_test)\n",
    "rf_test_preds[rf_test_preds < 0] = 0\n",
    "\n",
    "train_error = mean_squared_error(y_train, train_preds, squared=False)\n",
    "test_error = mean_squared_error(y_test, rf_test_preds, squared=False)\n",
    "\n",
    "print(\"Train: {}\\nTest: {}\".format(train_error, test_error))"
   ]
  },
  {
   "cell_type": "code",
   "execution_count": 108,
   "metadata": {},
   "outputs": [
    {
     "name": "stdout",
     "output_type": "stream",
     "text": [
      "pol_no_claims_discount = 0.01751669299071512\n",
      "pol_duration = 0.02956283227049652\n",
      "pol_sit_duration = 0.03452078976389694\n",
      "drv_age1 = 0.037904704401577935\n",
      "drv_age_lic1 = 0.032696496223530463\n",
      "vh_age = 0.08130827072239286\n",
      "vh_speed = 0.04114292158388764\n",
      "vh_value = 0.06898941608568825\n",
      "vh_weight = 0.06536773022503865\n",
      "population = 0.05646366626188725\n",
      "town_surface_area = 0.061219250091820415\n",
      "discount_base_change = 0.02007273858490973\n",
      "discount_yearly_change = 0.04094374893338156\n",
      "discount_change = 0.034299530145711236\n",
      "no_claims = 0.007732737993223133\n",
      "drv_avg_age = 0.04031541041432674\n",
      "drv_avg_lic = 0.03282895913590297\n",
      "pop_dens = 0.11466975185601756\n",
      "pol_coverage_Max = 0.07327066923034933\n",
      "pol_coverage_Med1 = 0.007312342953147885\n",
      "pol_coverage_Med2 = 0.010737258036903917\n",
      "pol_coverage_Min = 0.012184015752246717\n",
      "pol_payd_No = 0.0013261091750704128\n",
      "pol_payd_Yes = 0.002118938704103805\n",
      "pol_usage_AllTrips = 0.00611343795416668\n",
      "pol_usage_Professional = 0.009435697097646873\n",
      "pol_usage_Retired = 0.0030708456443254927\n",
      "pol_usage_WorkPrivate = 0.005374180792387371\n",
      "drv_sex1_F = 0.004293702424585668\n",
      "drv_sex1_M = 0.0027219433148422847\n",
      "vh_fuel_Diesel = 0.007522440977241531\n",
      "vh_fuel_Gasoline = 0.0066534556563513\n",
      "vh_fuel_Hybrid = 0.0008766124436374822\n",
      "vh_type_Commercial = 0.002201227903927065\n",
      "vh_type_Tourism = 0.0024452288686566603\n",
      "drv_sexes_F = 0.017149747574778395\n",
      "drv_sexes_FF = 0.0014190293389113335\n",
      "drv_sexes_FM = 0.0018716222081151897\n",
      "drv_sexes_M = 0.0016657208821286836\n",
      "drv_sexes_MM = 0.002680125382070954\n"
     ]
    }
   ],
   "source": [
    "for name, importance in zip(x_train.columns, reg.feature_importances_):\n",
    "     print(name, \"=\", importance)"
   ]
  },
  {
   "cell_type": "code",
   "execution_count": 109,
   "metadata": {},
   "outputs": [
    {
     "name": "stdout",
     "output_type": "stream",
     "text": [
      "Train: 693.4142047405898\n",
      "Test: 664.913363236186\n"
     ]
    }
   ],
   "source": [
    "import xgboost as xgb\n",
    "\n",
    "reg = xgb.XGBRegressor(\n",
    "    n_estimators=15,\n",
    "    reg_lambda=0.001,\n",
    "    gamma=1,\n",
    "    max_depth=3\n",
    ")\n",
    "\n",
    "reg.fit(x_train, y_train)\n",
    "\n",
    "xg_train_preds = reg.predict(x_train)\n",
    "xg_train_preds[xg_train_preds < 0] = 0\n",
    "\n",
    "xg_test_preds = reg.predict(x_test)\n",
    "xg_test_preds[xg_test_preds < 0] = 0\n",
    "\n",
    "train_error = mean_squared_error(y_train, xg_train_preds, squared=False)\n",
    "test_error = mean_squared_error(y_test, xg_test_preds, squared=False)\n",
    "\n",
    "print(\"Train: {}\\nTest: {}\".format(train_error, test_error))"
   ]
  },
  {
   "cell_type": "code",
   "execution_count": 110,
   "metadata": {},
   "outputs": [
    {
     "name": "stdout",
     "output_type": "stream",
     "text": [
      "pol_no_claims_discount = 0.02393794\n",
      "pol_duration = 0.011678419\n",
      "pol_sit_duration = 0.23209405\n",
      "drv_age1 = 0.012909182\n",
      "drv_age_lic1 = 0.0\n",
      "vh_age = 0.044964578\n",
      "vh_speed = 0.020832509\n",
      "vh_value = 0.037935458\n",
      "vh_weight = 0.015009883\n",
      "population = 0.048445407\n",
      "town_surface_area = 0.018680349\n",
      "discount_base_change = 0.0\n",
      "discount_yearly_change = 0.011333882\n",
      "discount_change = 0.0354108\n",
      "no_claims = 0.0\n",
      "drv_avg_age = 0.007326959\n",
      "drv_avg_lic = 0.0080668675\n",
      "pop_dens = 0.025187917\n",
      "pol_coverage_Max = 0.35941625\n",
      "pol_coverage_Med1 = 0.0\n",
      "pol_coverage_Med2 = 0.0\n",
      "pol_coverage_Min = 0.0055259084\n",
      "pol_payd_No = 0.0\n",
      "pol_payd_Yes = 0.0\n",
      "pol_usage_AllTrips = 0.02709083\n",
      "pol_usage_Professional = 0.021446051\n",
      "pol_usage_Retired = 0.0\n",
      "pol_usage_WorkPrivate = 0.0\n",
      "drv_sex1_F = 0.0\n",
      "drv_sex1_M = 0.0\n",
      "vh_fuel_Diesel = 0.014914292\n",
      "vh_fuel_Gasoline = 0.005794684\n",
      "vh_fuel_Hybrid = 0.0\n",
      "vh_type_Commercial = 0.0\n",
      "vh_type_Tourism = 0.0\n",
      "drv_sexes_F = 0.011997804\n",
      "drv_sexes_FF = 0.0\n",
      "drv_sexes_FM = 0.0\n",
      "drv_sexes_M = 0.0\n",
      "drv_sexes_MM = 0.0\n"
     ]
    }
   ],
   "source": [
    "for name, importance in zip(df.columns, reg.feature_importances_):\n",
    "     print(name, \"=\", importance)"
   ]
  },
  {
   "cell_type": "code",
   "execution_count": 111,
   "metadata": {},
   "outputs": [
    {
     "data": {
      "text/plain": [
       "664.5209808977036"
      ]
     },
     "execution_count": 111,
     "metadata": {},
     "output_type": "execute_result"
    }
   ],
   "source": [
    "a = np.mean([rf_test_preds, test_preds], axis=0)\n",
    "mean_squared_error(y_test, a, squared=False)"
   ]
  },
  {
   "cell_type": "code",
   "execution_count": 112,
   "metadata": {},
   "outputs": [
    {
     "data": {
      "text/plain": [
       "664.5645457297345"
      ]
     },
     "execution_count": 112,
     "metadata": {},
     "output_type": "execute_result"
    }
   ],
   "source": [
    "b = np.minimum(rf_test_preds, test_preds)\n",
    "mean_squared_error(y_test, b, squared=False)"
   ]
  },
  {
   "cell_type": "code",
   "execution_count": 113,
   "metadata": {},
   "outputs": [
    {
     "name": "stdout",
     "output_type": "stream",
     "text": [
      "Train: 695.9765715478296\n",
      "Test: 664.6000317820037\n"
     ]
    }
   ],
   "source": [
    "from sklearn.ensemble import GradientBoostingRegressor\n",
    "\n",
    "reg = GradientBoostingRegressor(n_estimators=65, learning_rate=0.5,\n",
    "     max_depth=1, random_state=2021, loss='ls', criterion='mse').fit(x_train, y_train)\n",
    "\n",
    "train_preds = reg.predict(x_train)\n",
    "train_preds[train_preds < 0] = 0\n",
    "\n",
    "test_preds = reg.predict(x_test)\n",
    "test_preds[test_preds < 0] = 0\n",
    "\n",
    "train_error = mean_squared_error(y_train, train_preds, squared=False)\n",
    "test_error = mean_squared_error(y_test, test_preds, squared=False)\n",
    "\n",
    "print(\"Train: {}\\nTest: {}\".format(train_error, test_error))"
   ]
  },
  {
   "cell_type": "code",
   "execution_count": null,
   "metadata": {},
   "outputs": [],
   "source": []
  }
 ],
 "metadata": {
  "kernelspec": {
   "display_name": "Python 3",
   "language": "python",
   "name": "python3"
  },
  "language_info": {
   "codemirror_mode": {
    "name": "ipython",
    "version": 3
   },
   "file_extension": ".py",
   "mimetype": "text/x-python",
   "name": "python",
   "nbconvert_exporter": "python",
   "pygments_lexer": "ipython3",
   "version": "3.6.5"
  }
 },
 "nbformat": 4,
 "nbformat_minor": 4
}
