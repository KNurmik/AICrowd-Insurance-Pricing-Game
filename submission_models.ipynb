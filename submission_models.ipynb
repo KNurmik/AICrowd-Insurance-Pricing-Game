{
 "cells": [
  {
   "cell_type": "code",
   "execution_count": 1,
   "metadata": {},
   "outputs": [],
   "source": [
    "import numpy as np\n",
    "import pandas as pd\n",
    "import sklearn\n",
    "from sklearn.model_selection import train_test_split\n",
    "from sklearn.preprocessing import StandardScaler\n",
    "from sklearn.metrics import mean_squared_error\n",
    "import re"
   ]
  },
  {
   "cell_type": "code",
   "execution_count": 87,
   "metadata": {},
   "outputs": [],
   "source": [
    "df = pd.read_csv('data/training.csv')\n",
    "\n",
    "y = df['claim_amount']\n",
    "df = df.drop(columns=['claim_amount'])\n",
    "\n",
    "def wrangle(df):\n",
    "    \n",
    "    original_len = len(df)\n",
    "    \n",
    "    # Replace 0 vehicle weight with mean\n",
    "    df.vh_weight = df.vh_weight.replace(0.0, np.mean(df[df.vh_weight > 0].vh_weight))\n",
    "    \n",
    "    # Replace NaNs with column mean\n",
    "    nans = ['vh_age', 'vh_speed', 'vh_value', 'vh_weight']\n",
    "    df[nans] = df[nans].fillna(df[nans].mean())\n",
    "    \n",
    "    # Join first year data\n",
    "    df = df.merge(df[df.year == 1.0][['id_policy', 'pol_no_claims_discount']],\n",
    "                  on='id_policy', suffixes=('', '_first'), how='left')\n",
    "    \n",
    "    # Change from beginning discount level\n",
    "    df['discount_base_change'] = df.pol_no_claims_discount - 0.631\n",
    "    # Yearly discount change over licence ownership\n",
    "    df['discount_yearly_change'] = df.discount_base_change / df.drv_age_lic1\n",
    "    \n",
    "    # Discount change from policy beginning\n",
    "    df['discount_change'] = df.pol_no_claims_discount - df.pol_no_claims_discount_first\n",
    "    # Approx. no. of claims since first year\n",
    "    df['no_claims'] = np.maximum(np.zeros_like(df.year), np.ceil(df.discount_change / 0.2))\n",
    "    \n",
    "    # Driver 1 and 2 combined info\n",
    "    df['drv_sex2'] = df.drv_sex2.replace('0', '')\n",
    "    df['drv_sexes'] = df.apply(lambda row: ''.join(sorted(row.drv_sex1 + row.drv_sex2)), axis=1)\n",
    "    df['drv_avg_age'] = np.mean(df[['drv_age1', 'drv_age2']], axis=1)\n",
    "    df['drv_avg_lic'] = np.mean(df[['drv_age_lic1', 'drv_age_lic2']], axis=1)\n",
    "    \n",
    "    # Population density\n",
    "    df['pop_dens'] = df.population / df.town_surface_area\n",
    "    \n",
    "    # Drop unnecessary cols\n",
    "    df = df.drop(columns=['id_policy', 'drv_drv2', 'drv_sex2', 'drv_age2', 'drv_age_lic2',\n",
    "                         'vh_make_model', 'pol_pay_freq', 'pol_no_claims_discount_first'])\n",
    "    \n",
    "    # One-hot encoding for categorical variables\n",
    "    cats = ['pol_coverage', 'pol_payd', 'pol_usage', 'drv_sex1', 'vh_fuel', 'vh_type',\n",
    "           'drv_sexes']\n",
    "    df = pd.get_dummies(df, prefix=cats,\n",
    "                       columns=cats)\n",
    "    \n",
    "    assert len(df) == original_len\n",
    "    return df\n",
    "\n",
    "def normalize(df, normalizer=None):\n",
    "    \n",
    "    cats = ['pol_coverage', 'pol_pay_freq', 'pol_payd', 'pol_usage', 'drv_sex1', 'vh_fuel', 'vh_type',\n",
    "           'drv_sexes']\n",
    "    dont_normalize = ['pol_no_claims_discount', 'discount_base_change', 'discount_yearly_change',\n",
    "                                                                     'discount_change']\n",
    "    \n",
    "    # Don't normalize categorical variables nor those in dont_normalize\n",
    "    to_normalize = [elem for elem in list(df.columns) if elem not in dont_normalize \n",
    "                    and '_'.join(elem.split('_')[:-1]) not in cats]\n",
    "\n",
    "    if normalizer is None:\n",
    "        normalizer = StandardScaler()\n",
    "        normalizer = normalizer.fit(df[to_normalize])\n",
    "        \n",
    "    df[to_normalize] = normalizer.transform(df[to_normalize])\n",
    "    return df, normalizer\n",
    "\n",
    "df = wrangle(df)\n",
    "\n",
    "# y = y[df.year != 1]\n",
    "# df = df[df.year != 1]\n",
    "\n",
    "df = df.drop(columns=['year'])\n",
    "\n",
    "x_train, x_test, y_train, y_test = train_test_split(df, y, test_size=0.2, random_state=2021)\n",
    "# x_train = df[df.year!=4]\n",
    "# y_train = y[df.year!=4]\n",
    "# x_test = df[df.year==4]\n",
    "# y_test = y[df.year==4]\n",
    "\n",
    "# x_train, norm = normalize(x_train)\n",
    "# x_test, blah = normalize(x_test, norm)"
   ]
  },
  {
   "cell_type": "code",
   "execution_count": 88,
   "metadata": {},
   "outputs": [
    {
     "name": "stdout",
     "output_type": "stream",
     "text": [
      "Train: 733.7015619729996\n",
      "Test: 674.9681929709905\n"
     ]
    }
   ],
   "source": [
    "from sklearn.linear_model import LinearRegression\n",
    "\n",
    "reg = LinearRegression().fit(x_train, y_train)\n",
    "\n",
    "train_preds = reg.predict(x_train)\n",
    "train_preds[train_preds < 0] = 0\n",
    "\n",
    "lr_test_preds = reg.predict(x_test)\n",
    "lr_test_preds[lr_test_preds < 0] = 0\n",
    "\n",
    "train_error = mean_squared_error(y_train, train_preds, squared=False)\n",
    "test_error = mean_squared_error(y_test, lr_test_preds, squared=False)\n",
    "\n",
    "print(\"Train: {}\\nTest: {}\".format(train_error, test_error))"
   ]
  },
  {
   "cell_type": "code",
   "execution_count": 89,
   "metadata": {},
   "outputs": [
    {
     "name": "stdout",
     "output_type": "stream",
     "text": [
      "Train: 733.7021775033223\n",
      "Test: 674.9912326196772\n"
     ]
    }
   ],
   "source": [
    "from sklearn.linear_model import RidgeCV\n",
    "from sklearn.linear_model import LassoCV\n",
    "\n",
    "alphas = [0.001, 0.01, 0.05, 0.1, 0.15, 0.2, 0.4, 0.5, 0.8, 1, 1.5]\n",
    "ridge = RidgeCV(alphas=alphas)\n",
    "ridge.fit(x_train, y_train)\n",
    "\n",
    "train_preds = ridge.predict(x_train)\n",
    "train_preds[train_preds < 0] = 0\n",
    "\n",
    "test_preds = ridge.predict(x_test)\n",
    "test_preds[test_preds < 0] = 0\n",
    "\n",
    "train_error = mean_squared_error(y_train, train_preds, squared=False)\n",
    "test_error = mean_squared_error(y_test, test_preds, squared=False)\n",
    "\n",
    "print(\"Train: {}\\nTest: {}\".format(train_error, test_error))"
   ]
  },
  {
   "cell_type": "code",
   "execution_count": 90,
   "metadata": {},
   "outputs": [
    {
     "name": "stdout",
     "output_type": "stream",
     "text": [
      "Train: 722.5819187855234\n",
      "Test: 675.0912266326844\n"
     ]
    }
   ],
   "source": [
    "from sklearn.ensemble import RandomForestRegressor\n",
    "\n",
    "n_estimators = 150\n",
    "max_depth = 12\n",
    "max_features = 'log2'\n",
    "min_samples_split = 200\n",
    "max_leaf_nodes = None\n",
    "\n",
    "reg = RandomForestRegressor(n_estimators=n_estimators, max_depth=max_depth, max_leaf_nodes=max_leaf_nodes,\n",
    "                             max_features=max_features, min_samples_split=min_samples_split, bootstrap=True).fit(x_train, y_train)\n",
    "\n",
    "train_preds = reg.predict(x_train)\n",
    "train_preds[train_preds < 0] = 0\n",
    "\n",
    "rf_test_preds = reg.predict(x_test)\n",
    "rf_test_preds[rf_test_preds < 0] = 0\n",
    "\n",
    "train_error = mean_squared_error(y_train, train_preds, squared=False)\n",
    "test_error = mean_squared_error(y_test, rf_test_preds, squared=False)\n",
    "\n",
    "print(\"Train: {}\\nTest: {}\".format(train_error, test_error))"
   ]
  },
  {
   "cell_type": "code",
   "execution_count": 91,
   "metadata": {},
   "outputs": [
    {
     "name": "stdout",
     "output_type": "stream",
     "text": [
      "pol_no_claims_discount = 0.017800710076417967\n",
      "pol_duration = 0.06193091702156504\n",
      "pol_sit_duration = 0.0287562402152678\n",
      "drv_age1 = 0.041109266238808354\n",
      "drv_age_lic1 = 0.03315155399931589\n",
      "vh_age = 0.08977832284098487\n",
      "vh_speed = 0.030130355225949423\n",
      "vh_value = 0.07987693283907299\n",
      "vh_weight = 0.06355765099377612\n",
      "population = 0.03304257498528113\n",
      "town_surface_area = 0.07139374235792058\n",
      "discount_base_change = 0.019046468750082337\n",
      "discount_yearly_change = 0.04276612547125053\n",
      "discount_change = 0.029768494263464063\n",
      "no_claims = 0.007014586537455016\n",
      "drv_avg_age = 0.0528665290285469\n",
      "drv_avg_lic = 0.03384663228950876\n",
      "pop_dens = 0.08716321251273039\n",
      "pol_coverage_Max = 0.06232204881311778\n",
      "pol_coverage_Med1 = 0.007705612463177845\n",
      "pol_coverage_Med2 = 0.020990502425692528\n",
      "pol_coverage_Min = 0.014771397593092282\n",
      "pol_payd_No = 0.0012642949904980731\n",
      "pol_payd_Yes = 0.0012120133192975884\n",
      "pol_usage_AllTrips = 0.003980929041167347\n",
      "pol_usage_Professional = 0.008603260334895248\n",
      "pol_usage_Retired = 0.004088875656513503\n",
      "pol_usage_WorkPrivate = 0.005372399460587294\n",
      "drv_sex1_F = 0.004804777246038746\n",
      "drv_sex1_M = 0.0032492072677788243\n",
      "vh_fuel_Diesel = 0.008653694102784734\n",
      "vh_fuel_Gasoline = 0.005569795967910878\n",
      "vh_fuel_Hybrid = 0.0007576840823224821\n",
      "vh_type_Commercial = 0.0019712536777640064\n",
      "vh_type_Tourism = 0.0022095926582019272\n",
      "drv_sexes_F = 0.005459064275300668\n",
      "drv_sexes_FF = 0.0015227390737155887\n",
      "drv_sexes_FM = 0.007293396643171211\n",
      "drv_sexes_M = 0.002262644575079859\n",
      "drv_sexes_MM = 0.002934500684493386\n"
     ]
    }
   ],
   "source": [
    "for name, importance in zip(x_train.columns, reg.feature_importances_):\n",
    "     print(name, \"=\", importance)"
   ]
  },
  {
   "cell_type": "code",
   "execution_count": 92,
   "metadata": {},
   "outputs": [
    {
     "name": "stdout",
     "output_type": "stream",
     "text": [
      "Train: 730.9118827303463\n",
      "Test: 675.5593009529223\n"
     ]
    }
   ],
   "source": [
    "import xgboost as xgb\n",
    "\n",
    "reg = xgb.XGBRegressor(\n",
    "    n_estimators=15,\n",
    "    reg_lambda=0.001,\n",
    "    gamma=1,\n",
    "    max_depth=3\n",
    ")\n",
    "\n",
    "reg.fit(x_train, y_train)\n",
    "\n",
    "xg_train_preds = reg.predict(x_train)\n",
    "xg_train_preds[xg_train_preds < 0] = 0\n",
    "\n",
    "xg_test_preds = reg.predict(x_test)\n",
    "xg_test_preds[xg_test_preds < 0] = 0\n",
    "\n",
    "train_error = mean_squared_error(y_train, xg_train_preds, squared=False)\n",
    "test_error = mean_squared_error(y_test, xg_test_preds, squared=False)\n",
    "\n",
    "print(\"Train: {}\\nTest: {}\".format(train_error, test_error))"
   ]
  },
  {
   "cell_type": "code",
   "execution_count": 93,
   "metadata": {},
   "outputs": [
    {
     "name": "stdout",
     "output_type": "stream",
     "text": [
      "pol_no_claims_discount = 0.03141623\n",
      "pol_duration = 0.16082229\n",
      "pol_sit_duration = 0.047738925\n",
      "drv_age1 = 0.02446534\n",
      "drv_age_lic1 = 0.0\n",
      "vh_age = 0.06508392\n",
      "vh_speed = 0.014568703\n",
      "vh_value = 0.08143593\n",
      "vh_weight = 0.038490303\n",
      "population = 0.015958367\n",
      "town_surface_area = 0.01719497\n",
      "discount_base_change = 0.0\n",
      "discount_yearly_change = 0.01768867\n",
      "discount_change = 0.023430578\n",
      "no_claims = 0.0\n",
      "drv_avg_age = 0.014936874\n",
      "drv_avg_lic = 0.021794667\n",
      "pop_dens = 0.022748753\n",
      "pol_coverage_Max = 0.33590415\n",
      "pol_coverage_Med1 = 0.0\n",
      "pol_coverage_Med2 = 0.0\n",
      "pol_coverage_Min = 0.015666245\n",
      "pol_payd_No = 0.0\n",
      "pol_payd_Yes = 0.0\n",
      "pol_usage_AllTrips = 0.010912179\n",
      "pol_usage_Professional = 0.026105046\n",
      "pol_usage_Retired = 0.0\n",
      "pol_usage_WorkPrivate = 0.0\n",
      "drv_sex1_F = 0.0\n",
      "drv_sex1_M = 0.0\n",
      "vh_fuel_Diesel = 0.013637887\n",
      "vh_fuel_Gasoline = 0.0\n",
      "vh_fuel_Hybrid = 0.0\n",
      "vh_type_Commercial = 0.0\n",
      "vh_type_Tourism = 0.0\n",
      "drv_sexes_F = 0.0\n",
      "drv_sexes_FF = 0.0\n",
      "drv_sexes_FM = 0.0\n",
      "drv_sexes_M = 0.0\n",
      "drv_sexes_MM = 0.0\n"
     ]
    }
   ],
   "source": [
    "for name, importance in zip(df.columns, reg.feature_importances_):\n",
    "     print(name, \"=\", importance)"
   ]
  },
  {
   "cell_type": "code",
   "execution_count": 94,
   "metadata": {},
   "outputs": [
    {
     "data": {
      "text/plain": [
       "674.8572369219102"
      ]
     },
     "execution_count": 94,
     "metadata": {},
     "output_type": "execute_result"
    }
   ],
   "source": [
    "a = (rf_test_preds + test_preds) / 2.0\n",
    "mean_squared_error(y_test, a, squared=False)"
   ]
  },
  {
   "cell_type": "code",
   "execution_count": 95,
   "metadata": {},
   "outputs": [
    {
     "data": {
      "text/plain": [
       "674.8610697715943"
      ]
     },
     "execution_count": 95,
     "metadata": {},
     "output_type": "execute_result"
    }
   ],
   "source": [
    "b = np.minimum(rf_test_preds, test_preds)\n",
    "mean_squared_error(y_test, b, squared=False)"
   ]
  },
  {
   "cell_type": "code",
   "execution_count": 96,
   "metadata": {},
   "outputs": [
    {
     "name": "stdout",
     "output_type": "stream",
     "text": [
      "Train: 733.3463944876357\n",
      "Test: 674.8719602573025\n"
     ]
    }
   ],
   "source": [
    "from sklearn.ensemble import GradientBoostingRegressor\n",
    "\n",
    "reg = GradientBoostingRegressor(n_estimators=65, learning_rate=0.5,\n",
    "     max_depth=1, random_state=2021, loss='ls', criterion='mse').fit(x_train, y_train)\n",
    "\n",
    "train_preds = reg.predict(x_train)\n",
    "train_preds[train_preds < 0] = 0\n",
    "\n",
    "test_preds = reg.predict(x_test)\n",
    "test_preds[test_preds < 0] = 0\n",
    "\n",
    "train_error = mean_squared_error(y_train, train_preds, squared=False)\n",
    "test_error = mean_squared_error(y_test, test_preds, squared=False)\n",
    "\n",
    "print(\"Train: {}\\nTest: {}\".format(train_error, test_error))"
   ]
  },
  {
   "cell_type": "code",
   "execution_count": null,
   "metadata": {},
   "outputs": [],
   "source": []
  },
  {
   "cell_type": "code",
   "execution_count": null,
   "metadata": {},
   "outputs": [],
   "source": []
  }
 ],
 "metadata": {
  "kernelspec": {
   "display_name": "Python 3",
   "language": "python",
   "name": "python3"
  },
  "language_info": {
   "codemirror_mode": {
    "name": "ipython",
    "version": 3
   },
   "file_extension": ".py",
   "mimetype": "text/x-python",
   "name": "python",
   "nbconvert_exporter": "python",
   "pygments_lexer": "ipython3",
   "version": "3.6.5"
  }
 },
 "nbformat": 4,
 "nbformat_minor": 4
}
